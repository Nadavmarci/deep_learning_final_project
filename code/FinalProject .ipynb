{
  "nbformat": 4,
  "nbformat_minor": 0,
  "metadata": {
    "colab": {
      "provenance": [],
      "gpuType": "T4",
      "machine_shape": "hm"
    },
    "kernelspec": {
      "name": "python3",
      "display_name": "Python 3"
    },
    "language_info": {
      "name": "python"
    },
    "accelerator": "GPU",
    "widgets": {
      "application/vnd.jupyter.widget-state+json": {
        "2ee5784b206f4f6392f4b14baee8d5ed": {
          "model_module": "@jupyter-widgets/controls",
          "model_name": "HBoxModel",
          "model_module_version": "1.5.0",
          "state": {
            "_dom_classes": [],
            "_model_module": "@jupyter-widgets/controls",
            "_model_module_version": "1.5.0",
            "_model_name": "HBoxModel",
            "_view_count": null,
            "_view_module": "@jupyter-widgets/controls",
            "_view_module_version": "1.5.0",
            "_view_name": "HBoxView",
            "box_style": "",
            "children": [
              "IPY_MODEL_70d25f23d67142bdbd6eb67316b9e7f8",
              "IPY_MODEL_d4694a67ff62449fadcea047c8cf3189",
              "IPY_MODEL_6a11b2639dc7492289bc69bf5079fe25"
            ],
            "layout": "IPY_MODEL_6c7b98bb22024290855ef03dae313835"
          }
        },
        "70d25f23d67142bdbd6eb67316b9e7f8": {
          "model_module": "@jupyter-widgets/controls",
          "model_name": "HTMLModel",
          "model_module_version": "1.5.0",
          "state": {
            "_dom_classes": [],
            "_model_module": "@jupyter-widgets/controls",
            "_model_module_version": "1.5.0",
            "_model_name": "HTMLModel",
            "_view_count": null,
            "_view_module": "@jupyter-widgets/controls",
            "_view_module_version": "1.5.0",
            "_view_name": "HTMLView",
            "description": "",
            "description_tooltip": null,
            "layout": "IPY_MODEL_20b3e301b111452aacc8d885f8367af5",
            "placeholder": "​",
            "style": "IPY_MODEL_ed91a1e8fb7644a4932c387afc10371d",
            "value": ""
          }
        },
        "d4694a67ff62449fadcea047c8cf3189": {
          "model_module": "@jupyter-widgets/controls",
          "model_name": "FloatProgressModel",
          "model_module_version": "1.5.0",
          "state": {
            "_dom_classes": [],
            "_model_module": "@jupyter-widgets/controls",
            "_model_module_version": "1.5.0",
            "_model_name": "FloatProgressModel",
            "_view_count": null,
            "_view_module": "@jupyter-widgets/controls",
            "_view_module_version": "1.5.0",
            "_view_name": "ProgressView",
            "bar_style": "success",
            "description": "",
            "description_tooltip": null,
            "layout": "IPY_MODEL_d0b85c8b0cad480c9c0ad3043185fa40",
            "max": 1,
            "min": 0,
            "orientation": "horizontal",
            "style": "IPY_MODEL_f6d04511305a45028cd2edba22fd3ed3",
            "value": 0
          }
        },
        "6a11b2639dc7492289bc69bf5079fe25": {
          "model_module": "@jupyter-widgets/controls",
          "model_name": "HTMLModel",
          "model_module_version": "1.5.0",
          "state": {
            "_dom_classes": [],
            "_model_module": "@jupyter-widgets/controls",
            "_model_module_version": "1.5.0",
            "_model_name": "HTMLModel",
            "_view_count": null,
            "_view_module": "@jupyter-widgets/controls",
            "_view_module_version": "1.5.0",
            "_view_name": "HTMLView",
            "description": "",
            "description_tooltip": null,
            "layout": "IPY_MODEL_9bc9b418e73d410b8f72ac93700aa399",
            "placeholder": "​",
            "style": "IPY_MODEL_1b61b7f1fe494580a1c38abaaed621f6",
            "value": " 0/0 [00:00&lt;?, ?it/s]"
          }
        },
        "6c7b98bb22024290855ef03dae313835": {
          "model_module": "@jupyter-widgets/base",
          "model_name": "LayoutModel",
          "model_module_version": "1.2.0",
          "state": {
            "_model_module": "@jupyter-widgets/base",
            "_model_module_version": "1.2.0",
            "_model_name": "LayoutModel",
            "_view_count": null,
            "_view_module": "@jupyter-widgets/base",
            "_view_module_version": "1.2.0",
            "_view_name": "LayoutView",
            "align_content": null,
            "align_items": null,
            "align_self": null,
            "border": null,
            "bottom": null,
            "display": null,
            "flex": null,
            "flex_flow": null,
            "grid_area": null,
            "grid_auto_columns": null,
            "grid_auto_flow": null,
            "grid_auto_rows": null,
            "grid_column": null,
            "grid_gap": null,
            "grid_row": null,
            "grid_template_areas": null,
            "grid_template_columns": null,
            "grid_template_rows": null,
            "height": null,
            "justify_content": null,
            "justify_items": null,
            "left": null,
            "margin": null,
            "max_height": null,
            "max_width": null,
            "min_height": null,
            "min_width": null,
            "object_fit": null,
            "object_position": null,
            "order": null,
            "overflow": null,
            "overflow_x": null,
            "overflow_y": null,
            "padding": null,
            "right": null,
            "top": null,
            "visibility": null,
            "width": null
          }
        },
        "20b3e301b111452aacc8d885f8367af5": {
          "model_module": "@jupyter-widgets/base",
          "model_name": "LayoutModel",
          "model_module_version": "1.2.0",
          "state": {
            "_model_module": "@jupyter-widgets/base",
            "_model_module_version": "1.2.0",
            "_model_name": "LayoutModel",
            "_view_count": null,
            "_view_module": "@jupyter-widgets/base",
            "_view_module_version": "1.2.0",
            "_view_name": "LayoutView",
            "align_content": null,
            "align_items": null,
            "align_self": null,
            "border": null,
            "bottom": null,
            "display": null,
            "flex": null,
            "flex_flow": null,
            "grid_area": null,
            "grid_auto_columns": null,
            "grid_auto_flow": null,
            "grid_auto_rows": null,
            "grid_column": null,
            "grid_gap": null,
            "grid_row": null,
            "grid_template_areas": null,
            "grid_template_columns": null,
            "grid_template_rows": null,
            "height": null,
            "justify_content": null,
            "justify_items": null,
            "left": null,
            "margin": null,
            "max_height": null,
            "max_width": null,
            "min_height": null,
            "min_width": null,
            "object_fit": null,
            "object_position": null,
            "order": null,
            "overflow": null,
            "overflow_x": null,
            "overflow_y": null,
            "padding": null,
            "right": null,
            "top": null,
            "visibility": null,
            "width": null
          }
        },
        "ed91a1e8fb7644a4932c387afc10371d": {
          "model_module": "@jupyter-widgets/controls",
          "model_name": "DescriptionStyleModel",
          "model_module_version": "1.5.0",
          "state": {
            "_model_module": "@jupyter-widgets/controls",
            "_model_module_version": "1.5.0",
            "_model_name": "DescriptionStyleModel",
            "_view_count": null,
            "_view_module": "@jupyter-widgets/base",
            "_view_module_version": "1.2.0",
            "_view_name": "StyleView",
            "description_width": ""
          }
        },
        "d0b85c8b0cad480c9c0ad3043185fa40": {
          "model_module": "@jupyter-widgets/base",
          "model_name": "LayoutModel",
          "model_module_version": "1.2.0",
          "state": {
            "_model_module": "@jupyter-widgets/base",
            "_model_module_version": "1.2.0",
            "_model_name": "LayoutModel",
            "_view_count": null,
            "_view_module": "@jupyter-widgets/base",
            "_view_module_version": "1.2.0",
            "_view_name": "LayoutView",
            "align_content": null,
            "align_items": null,
            "align_self": null,
            "border": null,
            "bottom": null,
            "display": null,
            "flex": null,
            "flex_flow": null,
            "grid_area": null,
            "grid_auto_columns": null,
            "grid_auto_flow": null,
            "grid_auto_rows": null,
            "grid_column": null,
            "grid_gap": null,
            "grid_row": null,
            "grid_template_areas": null,
            "grid_template_columns": null,
            "grid_template_rows": null,
            "height": null,
            "justify_content": null,
            "justify_items": null,
            "left": null,
            "margin": null,
            "max_height": null,
            "max_width": null,
            "min_height": null,
            "min_width": null,
            "object_fit": null,
            "object_position": null,
            "order": null,
            "overflow": null,
            "overflow_x": null,
            "overflow_y": null,
            "padding": null,
            "right": null,
            "top": null,
            "visibility": null,
            "width": "20px"
          }
        },
        "f6d04511305a45028cd2edba22fd3ed3": {
          "model_module": "@jupyter-widgets/controls",
          "model_name": "ProgressStyleModel",
          "model_module_version": "1.5.0",
          "state": {
            "_model_module": "@jupyter-widgets/controls",
            "_model_module_version": "1.5.0",
            "_model_name": "ProgressStyleModel",
            "_view_count": null,
            "_view_module": "@jupyter-widgets/base",
            "_view_module_version": "1.2.0",
            "_view_name": "StyleView",
            "bar_color": null,
            "description_width": ""
          }
        },
        "9bc9b418e73d410b8f72ac93700aa399": {
          "model_module": "@jupyter-widgets/base",
          "model_name": "LayoutModel",
          "model_module_version": "1.2.0",
          "state": {
            "_model_module": "@jupyter-widgets/base",
            "_model_module_version": "1.2.0",
            "_model_name": "LayoutModel",
            "_view_count": null,
            "_view_module": "@jupyter-widgets/base",
            "_view_module_version": "1.2.0",
            "_view_name": "LayoutView",
            "align_content": null,
            "align_items": null,
            "align_self": null,
            "border": null,
            "bottom": null,
            "display": null,
            "flex": null,
            "flex_flow": null,
            "grid_area": null,
            "grid_auto_columns": null,
            "grid_auto_flow": null,
            "grid_auto_rows": null,
            "grid_column": null,
            "grid_gap": null,
            "grid_row": null,
            "grid_template_areas": null,
            "grid_template_columns": null,
            "grid_template_rows": null,
            "height": null,
            "justify_content": null,
            "justify_items": null,
            "left": null,
            "margin": null,
            "max_height": null,
            "max_width": null,
            "min_height": null,
            "min_width": null,
            "object_fit": null,
            "object_position": null,
            "order": null,
            "overflow": null,
            "overflow_x": null,
            "overflow_y": null,
            "padding": null,
            "right": null,
            "top": null,
            "visibility": null,
            "width": null
          }
        },
        "1b61b7f1fe494580a1c38abaaed621f6": {
          "model_module": "@jupyter-widgets/controls",
          "model_name": "DescriptionStyleModel",
          "model_module_version": "1.5.0",
          "state": {
            "_model_module": "@jupyter-widgets/controls",
            "_model_module_version": "1.5.0",
            "_model_name": "DescriptionStyleModel",
            "_view_count": null,
            "_view_module": "@jupyter-widgets/base",
            "_view_module_version": "1.2.0",
            "_view_name": "StyleView",
            "description_width": ""
          }
        }
      }
    }
  },
  "cells": [
    {
      "cell_type": "markdown",
      "source": [
        "### ***Libraries***"
      ],
      "metadata": {
        "id": "8qRbkrcP5gsR"
      }
    },
    {
      "cell_type": "code",
      "execution_count": 1,
      "metadata": {
        "id": "7wWOzS7z5Pww",
        "colab": {
          "base_uri": "https://localhost:8080/",
          "height": 275,
          "referenced_widgets": [
            "2ee5784b206f4f6392f4b14baee8d5ed",
            "70d25f23d67142bdbd6eb67316b9e7f8",
            "d4694a67ff62449fadcea047c8cf3189",
            "6a11b2639dc7492289bc69bf5079fe25",
            "6c7b98bb22024290855ef03dae313835",
            "20b3e301b111452aacc8d885f8367af5",
            "ed91a1e8fb7644a4932c387afc10371d",
            "d0b85c8b0cad480c9c0ad3043185fa40",
            "f6d04511305a45028cd2edba22fd3ed3",
            "9bc9b418e73d410b8f72ac93700aa399",
            "1b61b7f1fe494580a1c38abaaed621f6"
          ]
        },
        "outputId": "b3a51cdc-ca8a-4731-da65-ef562c3e7977"
      },
      "outputs": [
        {
          "output_type": "stream",
          "name": "stdout",
          "text": [
            "\u001b[?25l     \u001b[90m━━━━━━━━━━━━━━━━━━━━━━━━━━━━━━━━━━━━━━━━\u001b[0m \u001b[32m0.0/1.5 MB\u001b[0m \u001b[31m?\u001b[0m eta \u001b[36m-:--:--\u001b[0m\r\u001b[2K     \u001b[91m━━━\u001b[0m\u001b[90m╺\u001b[0m\u001b[90m━━━━━━━━━━━━━━━━━━━━━━━━━━━━━━━━━━━━\u001b[0m \u001b[32m0.1/1.5 MB\u001b[0m \u001b[31m3.5 MB/s\u001b[0m eta \u001b[36m0:00:01\u001b[0m\r\u001b[2K     \u001b[91m━━━━━━━━━━━━━━━━━━━━━━━━━━━━━\u001b[0m\u001b[91m╸\u001b[0m\u001b[90m━━━━━━━━━━\u001b[0m \u001b[32m1.1/1.5 MB\u001b[0m \u001b[31m16.4 MB/s\u001b[0m eta \u001b[36m0:00:01\u001b[0m\r\u001b[2K     \u001b[90m━━━━━━━━━━━━━━━━━━━━━━━━━━━━━━━━━━━━━━━━\u001b[0m \u001b[32m1.5/1.5 MB\u001b[0m \u001b[31m17.4 MB/s\u001b[0m eta \u001b[36m0:00:00\u001b[0m\n",
            "\u001b[2K     \u001b[90m━━━━━━━━━━━━━━━━━━━━━━━━━━━━━━━━━━━━━━\u001b[0m \u001b[32m519.6/519.6 kB\u001b[0m \u001b[31m50.4 MB/s\u001b[0m eta \u001b[36m0:00:00\u001b[0m\n",
            "\u001b[2K     \u001b[90m━━━━━━━━━━━━━━━━━━━━━━━━━━━━━━━━━━━━━━━━\u001b[0m \u001b[32m7.7/7.7 MB\u001b[0m \u001b[31m113.5 MB/s\u001b[0m eta \u001b[36m0:00:00\u001b[0m\n",
            "\u001b[2K     \u001b[90m━━━━━━━━━━━━━━━━━━━━━━━━━━━━━━━━━━━━━━\u001b[0m \u001b[32m258.1/258.1 kB\u001b[0m \u001b[31m30.8 MB/s\u001b[0m eta \u001b[36m0:00:00\u001b[0m\n",
            "\u001b[2K     \u001b[90m━━━━━━━━━━━━━━━━━━━━━━━━━━━━━━━━━━━━━━━━\u001b[0m \u001b[32m53.1/53.1 kB\u001b[0m \u001b[31m7.3 MB/s\u001b[0m eta \u001b[36m0:00:00\u001b[0m\n",
            "\u001b[2K     \u001b[90m━━━━━━━━━━━━━━━━━━━━━━━━━━━━━━━━━━━━━━\u001b[0m \u001b[32m295.0/295.0 kB\u001b[0m \u001b[31m34.8 MB/s\u001b[0m eta \u001b[36m0:00:00\u001b[0m\n",
            "\u001b[2K     \u001b[90m━━━━━━━━━━━━━━━━━━━━━━━━━━━━━━━━━━━━━━━━\u001b[0m \u001b[32m1.3/1.3 MB\u001b[0m \u001b[31m83.3 MB/s\u001b[0m eta \u001b[36m0:00:00\u001b[0m\n",
            "\u001b[2K     \u001b[90m━━━━━━━━━━━━━━━━━━━━━━━━━━━━━━━━━━━━━━\u001b[0m \u001b[32m115.3/115.3 kB\u001b[0m \u001b[31m14.8 MB/s\u001b[0m eta \u001b[36m0:00:00\u001b[0m\n",
            "\u001b[2K     \u001b[90m━━━━━━━━━━━━━━━━━━━━━━━━━━━━━━━━━━━━━━\u001b[0m \u001b[32m194.1/194.1 kB\u001b[0m \u001b[31m23.3 MB/s\u001b[0m eta \u001b[36m0:00:00\u001b[0m\n",
            "\u001b[2K     \u001b[90m━━━━━━━━━━━━━━━━━━━━━━━━━━━━━━━━━━━━━━\u001b[0m \u001b[32m134.8/134.8 kB\u001b[0m \u001b[31m18.4 MB/s\u001b[0m eta \u001b[36m0:00:00\u001b[0m\n",
            "\u001b[2K     \u001b[90m━━━━━━━━━━━━━━━━━━━━━━━━━━━━━━━━━━━━━━━━\u001b[0m \u001b[32m3.8/3.8 MB\u001b[0m \u001b[31m107.0 MB/s\u001b[0m eta \u001b[36m0:00:00\u001b[0m\n",
            "\u001b[2K     \u001b[90m━━━━━━━━━━━━━━━━━━━━━━━━━━━━━━━━━━━━━━\u001b[0m \u001b[32m268.8/268.8 kB\u001b[0m \u001b[31m29.2 MB/s\u001b[0m eta \u001b[36m0:00:00\u001b[0m\n",
            "\u001b[?25h"
          ]
        },
        {
          "output_type": "stream",
          "name": "stderr",
          "text": [
            "The cache for model files in Transformers v4.22.0 has been updated. Migrating your old cache. This is a one-time only operation. You can interrupt this and resume the migration later on by calling `transformers.utils.move_cache()`.\n"
          ]
        },
        {
          "output_type": "display_data",
          "data": {
            "text/plain": [
              "0it [00:00, ?it/s]"
            ],
            "application/vnd.jupyter.widget-view+json": {
              "version_major": 2,
              "version_minor": 0,
              "model_id": "2ee5784b206f4f6392f4b14baee8d5ed"
            }
          },
          "metadata": {}
        }
      ],
      "source": [
        "%pip install -qq -U diffusers datasets transformers accelerate ftfy pyarrow==9.0.0\n",
        "\n",
        "import numpy as np\n",
        "import pandas as pd\n",
        "import matplotlib.pyplot as plt\n",
        "import scipy.io as sio\n",
        "import torch\n",
        "import torch.optim as optim\n",
        "import torchvision\n",
        "import torch.nn as nn\n",
        "import seaborn as sns\n",
        "\n",
        "from torchvision.utils import save_image, make_grid\n",
        "from torchvision import transforms\n",
        "from PIL import Image\n",
        "from diffusers import DDPMScheduler, UNet2DModel\n",
        "from sklearn.model_selection import train_test_split\n",
        "from torch.utils.data import DataLoader, TensorDataset\n",
        "from tqdm import tqdm\n",
        "from sklearn.metrics import precision_score, recall_score\n"
      ]
    },
    {
      "cell_type": "markdown",
      "source": [
        "Google Drive and GPU connection"
      ],
      "metadata": {
        "id": "ItWdrqOa62NF"
      }
    },
    {
      "cell_type": "code",
      "source": [
        "device = torch.device(\"cuda\" if torch.cuda.is_available() else \"cpu\")"
      ],
      "metadata": {
        "id": "-btVka6D61x9"
      },
      "execution_count": 2,
      "outputs": []
    },
    {
      "cell_type": "code",
      "source": [
        "if torch.cuda.is_available():\n",
        "  print(\"GPU is available!\")\n",
        "else:\n",
        "  print(\"GPU is not available.\")"
      ],
      "metadata": {
        "colab": {
          "base_uri": "https://localhost:8080/"
        },
        "id": "WNpW4S-p6it7",
        "outputId": "33f83e3d-415d-45d1-dc15-aed73bce223c"
      },
      "execution_count": 3,
      "outputs": [
        {
          "output_type": "stream",
          "name": "stdout",
          "text": [
            "GPU is available!\n"
          ]
        }
      ]
    },
    {
      "cell_type": "code",
      "source": [
        "from google.colab import drive\n",
        "drive.mount('/content/drive')"
      ],
      "metadata": {
        "colab": {
          "base_uri": "https://localhost:8080/"
        },
        "id": "PJ-iYWan7T68",
        "outputId": "81af9dd2-a4ac-4f34-ae9c-a67ff768fa1b"
      },
      "execution_count": 4,
      "outputs": [
        {
          "output_type": "stream",
          "name": "stdout",
          "text": [
            "Mounted at /content/drive\n"
          ]
        }
      ]
    },
    {
      "cell_type": "markdown",
      "source": [
        "---"
      ],
      "metadata": {
        "id": "XlQ3JkBBXl3T"
      }
    },
    {
      "cell_type": "markdown",
      "source": [
        "### ***Functions***"
      ],
      "metadata": {
        "id": "hQIQ7KQ852MT"
      }
    },
    {
      "cell_type": "code",
      "source": [
        "def print_matrix(matrix,pattern):\n",
        "\n",
        "    img1_np = matrix.permute(0, 2, 3, 1).detach().cpu().numpy()  # (32, 32, 32, 3)\n",
        "    img2_np = pattern.detach().cpu().numpy()\n",
        "\n",
        "    # Create a figure with subplots\n",
        "    fig, axs = plt.subplots(1, 2, figsize=(8, 4))\n",
        "\n",
        "    # First subplot: img1\n",
        "    axs[0].imshow(img1_np[0], cmap='gray')  # Display the first image in the batch\n",
        "    axs[0].set_title('Pred matrix')\n",
        "    axs[0].axis('off')\n",
        "\n",
        "    # Second subplot: img2\n",
        "    axs[1].imshow(np.transpose(img2_np[0], (1, 2, 0)), cmap='gray')  # Display the first image in the batch\n",
        "    axs[1].set_title('Pattern')\n",
        "    axs[1].axis('off')\n",
        "\n",
        "    # Adjust layout\n",
        "    plt.tight_layout()\n",
        "\n",
        "    # Show the plots\n",
        "    plt.show()\n",
        "\n",
        "def show_images(x):\n",
        "    x = x * 0.5 + 0.5  # Map from (-1, 1) back to (0, 1)\n",
        "    grid = torchvision.utils.make_grid(x)\n",
        "    grid_im = grid.detach().cpu().permute(1, 2, 0).clip(0, 1) * 255\n",
        "    grid_im = Image.fromarray(np.array(grid_im).astype(np.uint8))\n",
        "    return grid_im\n",
        "\n",
        "def padding_zero(x):\n",
        "    x = np.pad(x,((0,1),(0,1)),constant_values = 0)\n",
        "    x =  np.pad(x, 4 ,constant_values = 0)\n",
        "    return x\n",
        "\n",
        "def binary_threshold(batch, threshold=0.5):\n",
        "\n",
        "    # Apply the threshold to the batch\n",
        "    binary_batch = (batch > threshold).float()\n",
        "\n",
        "    return binary_batch\n"
      ],
      "metadata": {
        "id": "w9UUowbZ5s83"
      },
      "execution_count": 5,
      "outputs": []
    },
    {
      "cell_type": "markdown",
      "source": [
        "---"
      ],
      "metadata": {
        "id": "-ZNf3C8HX4zo"
      }
    },
    {
      "cell_type": "markdown",
      "source": [
        "### ***Data loading***"
      ],
      "metadata": {
        "id": "axoyjGzs8DNx"
      }
    },
    {
      "cell_type": "markdown",
      "source": [
        "Upload the data to the google drive, and change the file_path accordingly"
      ],
      "metadata": {
        "id": "lofFSwbB8T1U"
      }
    },
    {
      "cell_type": "code",
      "source": [
        "sample_data = []\n",
        "\n",
        "for i in range(1,25001):\n",
        "    file_path = f'/content/drive/MyDrive/Deep learning/Final Project/Si_MS_Scat_samp_{i}.mat'\n",
        "    mat_data = sio.loadmat(file_path)\n",
        "\n",
        "    # Extract parameters from the loaded MATLAB file\n",
        "    Rm_data = np.array(mat_data['Rm']).flatten()\n",
        "    Tm_data = np.array(mat_data['Tm']).flatten()\n",
        "    h_data = np.tile(np.array(mat_data['h']),(32, 32)).flatten().astype(np.float32)\n",
        "    xx_data = np.array(mat_data['xx']).flatten()\n",
        "\n",
        "    # Store the parameters in a dictionary or list\n",
        "    sample_dict = {\n",
        "        'Sample': f'Si_MS_Scat_samp_{i}',\n",
        "        'h_data': h_data,\n",
        "        'xx_data': xx_data,\n",
        "        'Rm_data': Rm_data,\n",
        "        'Tm_data': Tm_data\n",
        "    }\n",
        "    sample_data.append(sample_dict)\n",
        "\n",
        "dataset_df = pd.DataFrame(sample_data)\n",
        "dataset_df.to_pickle('/content/drive/MyDrive/Deep learning/Final Project/dataset_df.pkl')"
      ],
      "metadata": {
        "id": "NpJAeMGu6m4z"
      },
      "execution_count": null,
      "outputs": []
    },
    {
      "cell_type": "markdown",
      "source": [
        "Change the path accordingly and upload the dataframe"
      ],
      "metadata": {
        "id": "zmoPwfTg8Z06"
      }
    },
    {
      "cell_type": "code",
      "source": [
        "path = '/content/drive/MyDrive/Deep learning/Final Project/dataset_df.pkl'\n",
        "dataset_df = pd.read_pickle(path)\n",
        "dataset_df.head()"
      ],
      "metadata": {
        "colab": {
          "base_uri": "https://localhost:8080/",
          "height": 206
        },
        "id": "5bArxH7-8aRp",
        "outputId": "8eb7a18b-a0d7-4b8d-e067-3ce00388b264"
      },
      "execution_count": 6,
      "outputs": [
        {
          "output_type": "execute_result",
          "data": {
            "text/plain": [
              "              Sample                                             h_data  \\\n",
              "0  Si_MS_Scat_samp_1  [482.0, 482.0, 482.0, 482.0, 482.0, 482.0, 482...   \n",
              "1  Si_MS_Scat_samp_2  [199.0, 199.0, 199.0, 199.0, 199.0, 199.0, 199...   \n",
              "2  Si_MS_Scat_samp_3  [295.0, 295.0, 295.0, 295.0, 295.0, 295.0, 295...   \n",
              "3  Si_MS_Scat_samp_4  [397.0, 397.0, 397.0, 397.0, 397.0, 397.0, 397...   \n",
              "4  Si_MS_Scat_samp_5  [286.0, 286.0, 286.0, 286.0, 286.0, 286.0, 286...   \n",
              "\n",
              "                                             xx_data  \\\n",
              "0  [0, 1, 0, 0, 1, 1, 1, 0, 0, 0, 1, 0, 1, 1, 0, ...   \n",
              "1  [0, 0, 0, 1, 0, 0, 0, 1, 0, 1, 0, 1, 0, 1, 0, ...   \n",
              "2  [0, 1, 0, 1, 0, 1, 0, 1, 1, 0, 0, 1, 1, 0, 1, ...   \n",
              "3  [0, 0, 1, 1, 0, 0, 1, 1, 0, 0, 1, 0, 0, 0, 0, ...   \n",
              "4  [0, 0, 1, 1, 1, 0, 1, 0, 0, 1, 0, 0, 1, 1, 1, ...   \n",
              "\n",
              "                                             Rm_data  \\\n",
              "0  [0.0, 0.0, 0.0, 0.0, 0.0, 0.0, 0.0, 0.0, 0.0, ...   \n",
              "1  [0.0, 0.0, 0.0, 0.0, 0.0, 0.0, 0.0, 0.0, 0.0, ...   \n",
              "2  [0.0, 0.0, 0.0, 0.0, 0.0, 0.0, 0.0, 0.0, 0.0, ...   \n",
              "3  [0.0, 0.0, 0.0, 0.0, 0.0, 0.0, 0.0, 0.0, 0.0, ...   \n",
              "4  [0.0, 0.0, 0.0, 0.0, 0.0, 0.0, 0.0, 0.0, 0.0, ...   \n",
              "\n",
              "                                             Tm_data  \n",
              "0  [0.0, 0.0, 0.0, 0.0, 0.0, 0.0, 0.0, 0.0, 0.0, ...  \n",
              "1  [0.0, 0.0, 0.0, 0.0, 0.0, 0.0, 0.0, 0.0, 0.0, ...  \n",
              "2  [0.0, 0.0, 0.0, 0.0, 0.0, 0.0, 0.0, 0.0, 0.0, ...  \n",
              "3  [0.0, 0.0, 0.0, 0.0, 0.0, 0.0, 0.0, 0.0, 0.0, ...  \n",
              "4  [0.0, 0.0, 0.0, 0.0, 0.0, 0.0, 0.0, 0.0, 0.0, ...  "
            ],
            "text/html": [
              "\n",
              "  <div id=\"df-deeffd1c-6299-40ed-a576-f75c3a3faa78\" class=\"colab-df-container\">\n",
              "    <div>\n",
              "<style scoped>\n",
              "    .dataframe tbody tr th:only-of-type {\n",
              "        vertical-align: middle;\n",
              "    }\n",
              "\n",
              "    .dataframe tbody tr th {\n",
              "        vertical-align: top;\n",
              "    }\n",
              "\n",
              "    .dataframe thead th {\n",
              "        text-align: right;\n",
              "    }\n",
              "</style>\n",
              "<table border=\"1\" class=\"dataframe\">\n",
              "  <thead>\n",
              "    <tr style=\"text-align: right;\">\n",
              "      <th></th>\n",
              "      <th>Sample</th>\n",
              "      <th>h_data</th>\n",
              "      <th>xx_data</th>\n",
              "      <th>Rm_data</th>\n",
              "      <th>Tm_data</th>\n",
              "    </tr>\n",
              "  </thead>\n",
              "  <tbody>\n",
              "    <tr>\n",
              "      <th>0</th>\n",
              "      <td>Si_MS_Scat_samp_1</td>\n",
              "      <td>[482.0, 482.0, 482.0, 482.0, 482.0, 482.0, 482...</td>\n",
              "      <td>[0, 1, 0, 0, 1, 1, 1, 0, 0, 0, 1, 0, 1, 1, 0, ...</td>\n",
              "      <td>[0.0, 0.0, 0.0, 0.0, 0.0, 0.0, 0.0, 0.0, 0.0, ...</td>\n",
              "      <td>[0.0, 0.0, 0.0, 0.0, 0.0, 0.0, 0.0, 0.0, 0.0, ...</td>\n",
              "    </tr>\n",
              "    <tr>\n",
              "      <th>1</th>\n",
              "      <td>Si_MS_Scat_samp_2</td>\n",
              "      <td>[199.0, 199.0, 199.0, 199.0, 199.0, 199.0, 199...</td>\n",
              "      <td>[0, 0, 0, 1, 0, 0, 0, 1, 0, 1, 0, 1, 0, 1, 0, ...</td>\n",
              "      <td>[0.0, 0.0, 0.0, 0.0, 0.0, 0.0, 0.0, 0.0, 0.0, ...</td>\n",
              "      <td>[0.0, 0.0, 0.0, 0.0, 0.0, 0.0, 0.0, 0.0, 0.0, ...</td>\n",
              "    </tr>\n",
              "    <tr>\n",
              "      <th>2</th>\n",
              "      <td>Si_MS_Scat_samp_3</td>\n",
              "      <td>[295.0, 295.0, 295.0, 295.0, 295.0, 295.0, 295...</td>\n",
              "      <td>[0, 1, 0, 1, 0, 1, 0, 1, 1, 0, 0, 1, 1, 0, 1, ...</td>\n",
              "      <td>[0.0, 0.0, 0.0, 0.0, 0.0, 0.0, 0.0, 0.0, 0.0, ...</td>\n",
              "      <td>[0.0, 0.0, 0.0, 0.0, 0.0, 0.0, 0.0, 0.0, 0.0, ...</td>\n",
              "    </tr>\n",
              "    <tr>\n",
              "      <th>3</th>\n",
              "      <td>Si_MS_Scat_samp_4</td>\n",
              "      <td>[397.0, 397.0, 397.0, 397.0, 397.0, 397.0, 397...</td>\n",
              "      <td>[0, 0, 1, 1, 0, 0, 1, 1, 0, 0, 1, 0, 0, 0, 0, ...</td>\n",
              "      <td>[0.0, 0.0, 0.0, 0.0, 0.0, 0.0, 0.0, 0.0, 0.0, ...</td>\n",
              "      <td>[0.0, 0.0, 0.0, 0.0, 0.0, 0.0, 0.0, 0.0, 0.0, ...</td>\n",
              "    </tr>\n",
              "    <tr>\n",
              "      <th>4</th>\n",
              "      <td>Si_MS_Scat_samp_5</td>\n",
              "      <td>[286.0, 286.0, 286.0, 286.0, 286.0, 286.0, 286...</td>\n",
              "      <td>[0, 0, 1, 1, 1, 0, 1, 0, 0, 1, 0, 0, 1, 1, 1, ...</td>\n",
              "      <td>[0.0, 0.0, 0.0, 0.0, 0.0, 0.0, 0.0, 0.0, 0.0, ...</td>\n",
              "      <td>[0.0, 0.0, 0.0, 0.0, 0.0, 0.0, 0.0, 0.0, 0.0, ...</td>\n",
              "    </tr>\n",
              "  </tbody>\n",
              "</table>\n",
              "</div>\n",
              "    <div class=\"colab-df-buttons\">\n",
              "\n",
              "  <div class=\"colab-df-container\">\n",
              "    <button class=\"colab-df-convert\" onclick=\"convertToInteractive('df-deeffd1c-6299-40ed-a576-f75c3a3faa78')\"\n",
              "            title=\"Convert this dataframe to an interactive table.\"\n",
              "            style=\"display:none;\">\n",
              "\n",
              "  <svg xmlns=\"http://www.w3.org/2000/svg\" height=\"24px\" viewBox=\"0 -960 960 960\">\n",
              "    <path d=\"M120-120v-720h720v720H120Zm60-500h600v-160H180v160Zm220 220h160v-160H400v160Zm0 220h160v-160H400v160ZM180-400h160v-160H180v160Zm440 0h160v-160H620v160ZM180-180h160v-160H180v160Zm440 0h160v-160H620v160Z\"/>\n",
              "  </svg>\n",
              "    </button>\n",
              "\n",
              "  <style>\n",
              "    .colab-df-container {\n",
              "      display:flex;\n",
              "      gap: 12px;\n",
              "    }\n",
              "\n",
              "    .colab-df-convert {\n",
              "      background-color: #E8F0FE;\n",
              "      border: none;\n",
              "      border-radius: 50%;\n",
              "      cursor: pointer;\n",
              "      display: none;\n",
              "      fill: #1967D2;\n",
              "      height: 32px;\n",
              "      padding: 0 0 0 0;\n",
              "      width: 32px;\n",
              "    }\n",
              "\n",
              "    .colab-df-convert:hover {\n",
              "      background-color: #E2EBFA;\n",
              "      box-shadow: 0px 1px 2px rgba(60, 64, 67, 0.3), 0px 1px 3px 1px rgba(60, 64, 67, 0.15);\n",
              "      fill: #174EA6;\n",
              "    }\n",
              "\n",
              "    .colab-df-buttons div {\n",
              "      margin-bottom: 4px;\n",
              "    }\n",
              "\n",
              "    [theme=dark] .colab-df-convert {\n",
              "      background-color: #3B4455;\n",
              "      fill: #D2E3FC;\n",
              "    }\n",
              "\n",
              "    [theme=dark] .colab-df-convert:hover {\n",
              "      background-color: #434B5C;\n",
              "      box-shadow: 0px 1px 3px 1px rgba(0, 0, 0, 0.15);\n",
              "      filter: drop-shadow(0px 1px 2px rgba(0, 0, 0, 0.3));\n",
              "      fill: #FFFFFF;\n",
              "    }\n",
              "  </style>\n",
              "\n",
              "    <script>\n",
              "      const buttonEl =\n",
              "        document.querySelector('#df-deeffd1c-6299-40ed-a576-f75c3a3faa78 button.colab-df-convert');\n",
              "      buttonEl.style.display =\n",
              "        google.colab.kernel.accessAllowed ? 'block' : 'none';\n",
              "\n",
              "      async function convertToInteractive(key) {\n",
              "        const element = document.querySelector('#df-deeffd1c-6299-40ed-a576-f75c3a3faa78');\n",
              "        const dataTable =\n",
              "          await google.colab.kernel.invokeFunction('convertToInteractive',\n",
              "                                                    [key], {});\n",
              "        if (!dataTable) return;\n",
              "\n",
              "        const docLinkHtml = 'Like what you see? Visit the ' +\n",
              "          '<a target=\"_blank\" href=https://colab.research.google.com/notebooks/data_table.ipynb>data table notebook</a>'\n",
              "          + ' to learn more about interactive tables.';\n",
              "        element.innerHTML = '';\n",
              "        dataTable['output_type'] = 'display_data';\n",
              "        await google.colab.output.renderOutput(dataTable, element);\n",
              "        const docLink = document.createElement('div');\n",
              "        docLink.innerHTML = docLinkHtml;\n",
              "        element.appendChild(docLink);\n",
              "      }\n",
              "    </script>\n",
              "  </div>\n",
              "\n",
              "\n",
              "<div id=\"df-e254b0ef-9067-4fab-8b2d-d11e7f364c08\">\n",
              "  <button class=\"colab-df-quickchart\" onclick=\"quickchart('df-e254b0ef-9067-4fab-8b2d-d11e7f364c08')\"\n",
              "            title=\"Suggest charts.\"\n",
              "            style=\"display:none;\">\n",
              "\n",
              "<svg xmlns=\"http://www.w3.org/2000/svg\" height=\"24px\"viewBox=\"0 0 24 24\"\n",
              "     width=\"24px\">\n",
              "    <g>\n",
              "        <path d=\"M19 3H5c-1.1 0-2 .9-2 2v14c0 1.1.9 2 2 2h14c1.1 0 2-.9 2-2V5c0-1.1-.9-2-2-2zM9 17H7v-7h2v7zm4 0h-2V7h2v10zm4 0h-2v-4h2v4z\"/>\n",
              "    </g>\n",
              "</svg>\n",
              "  </button>\n",
              "\n",
              "<style>\n",
              "  .colab-df-quickchart {\n",
              "      --bg-color: #E8F0FE;\n",
              "      --fill-color: #1967D2;\n",
              "      --hover-bg-color: #E2EBFA;\n",
              "      --hover-fill-color: #174EA6;\n",
              "      --disabled-fill-color: #AAA;\n",
              "      --disabled-bg-color: #DDD;\n",
              "  }\n",
              "\n",
              "  [theme=dark] .colab-df-quickchart {\n",
              "      --bg-color: #3B4455;\n",
              "      --fill-color: #D2E3FC;\n",
              "      --hover-bg-color: #434B5C;\n",
              "      --hover-fill-color: #FFFFFF;\n",
              "      --disabled-bg-color: #3B4455;\n",
              "      --disabled-fill-color: #666;\n",
              "  }\n",
              "\n",
              "  .colab-df-quickchart {\n",
              "    background-color: var(--bg-color);\n",
              "    border: none;\n",
              "    border-radius: 50%;\n",
              "    cursor: pointer;\n",
              "    display: none;\n",
              "    fill: var(--fill-color);\n",
              "    height: 32px;\n",
              "    padding: 0;\n",
              "    width: 32px;\n",
              "  }\n",
              "\n",
              "  .colab-df-quickchart:hover {\n",
              "    background-color: var(--hover-bg-color);\n",
              "    box-shadow: 0 1px 2px rgba(60, 64, 67, 0.3), 0 1px 3px 1px rgba(60, 64, 67, 0.15);\n",
              "    fill: var(--button-hover-fill-color);\n",
              "  }\n",
              "\n",
              "  .colab-df-quickchart-complete:disabled,\n",
              "  .colab-df-quickchart-complete:disabled:hover {\n",
              "    background-color: var(--disabled-bg-color);\n",
              "    fill: var(--disabled-fill-color);\n",
              "    box-shadow: none;\n",
              "  }\n",
              "\n",
              "  .colab-df-spinner {\n",
              "    border: 2px solid var(--fill-color);\n",
              "    border-color: transparent;\n",
              "    border-bottom-color: var(--fill-color);\n",
              "    animation:\n",
              "      spin 1s steps(1) infinite;\n",
              "  }\n",
              "\n",
              "  @keyframes spin {\n",
              "    0% {\n",
              "      border-color: transparent;\n",
              "      border-bottom-color: var(--fill-color);\n",
              "      border-left-color: var(--fill-color);\n",
              "    }\n",
              "    20% {\n",
              "      border-color: transparent;\n",
              "      border-left-color: var(--fill-color);\n",
              "      border-top-color: var(--fill-color);\n",
              "    }\n",
              "    30% {\n",
              "      border-color: transparent;\n",
              "      border-left-color: var(--fill-color);\n",
              "      border-top-color: var(--fill-color);\n",
              "      border-right-color: var(--fill-color);\n",
              "    }\n",
              "    40% {\n",
              "      border-color: transparent;\n",
              "      border-right-color: var(--fill-color);\n",
              "      border-top-color: var(--fill-color);\n",
              "    }\n",
              "    60% {\n",
              "      border-color: transparent;\n",
              "      border-right-color: var(--fill-color);\n",
              "    }\n",
              "    80% {\n",
              "      border-color: transparent;\n",
              "      border-right-color: var(--fill-color);\n",
              "      border-bottom-color: var(--fill-color);\n",
              "    }\n",
              "    90% {\n",
              "      border-color: transparent;\n",
              "      border-bottom-color: var(--fill-color);\n",
              "    }\n",
              "  }\n",
              "</style>\n",
              "\n",
              "  <script>\n",
              "    async function quickchart(key) {\n",
              "      const quickchartButtonEl =\n",
              "        document.querySelector('#' + key + ' button');\n",
              "      quickchartButtonEl.disabled = true;  // To prevent multiple clicks.\n",
              "      quickchartButtonEl.classList.add('colab-df-spinner');\n",
              "      try {\n",
              "        const charts = await google.colab.kernel.invokeFunction(\n",
              "            'suggestCharts', [key], {});\n",
              "      } catch (error) {\n",
              "        console.error('Error during call to suggestCharts:', error);\n",
              "      }\n",
              "      quickchartButtonEl.classList.remove('colab-df-spinner');\n",
              "      quickchartButtonEl.classList.add('colab-df-quickchart-complete');\n",
              "    }\n",
              "    (() => {\n",
              "      let quickchartButtonEl =\n",
              "        document.querySelector('#df-e254b0ef-9067-4fab-8b2d-d11e7f364c08 button');\n",
              "      quickchartButtonEl.style.display =\n",
              "        google.colab.kernel.accessAllowed ? 'block' : 'none';\n",
              "    })();\n",
              "  </script>\n",
              "</div>\n",
              "    </div>\n",
              "  </div>\n"
            ]
          },
          "metadata": {},
          "execution_count": 6
        }
      ]
    },
    {
      "cell_type": "markdown",
      "source": [
        "---"
      ],
      "metadata": {
        "id": "ratPOpzGX7n9"
      }
    },
    {
      "cell_type": "markdown",
      "source": [
        "### ***Data processing***"
      ],
      "metadata": {
        "id": "3L7YTDag9u6-"
      }
    },
    {
      "cell_type": "code",
      "source": [
        "sample_data = []\n",
        "\n",
        "# h normalization\n",
        "flattened_data = [value for sublist in dataset_df['h_data'] for value in sublist]\n",
        "max_value = max(flattened_data)\n",
        "min_value = min(flattened_data)\n",
        "dataset_df['h_data'] = (dataset_df['h_data'] - min_value) / (max_value - min_value)\n",
        "\n",
        "for i in range(0,25000):\n",
        "    rm = torch.tensor(dataset_df.at[dataset_df.index[i],'Rm_data'])\n",
        "    tm = torch.tensor(dataset_df.at[dataset_df.index[i],'Tm_data'])\n",
        "    h = torch.tensor(dataset_df.at[dataset_df.index[i],'h_data'])\n",
        "    result = np.dot(dataset_df['xx_data'][i],dataset_df['h_data'][i][0])\n",
        "    result = torch.tensor(result).view(10, 10)\n",
        "    xx_data = torch.tensor(dataset_df.at[dataset_df.index[i],'xx_data']).view(10, 10)\n",
        "\n",
        "    # Assuming rm, tm, h are already defined tensors with shape (23, 23)\n",
        "    rm_padding = torch.tensor(padding_zero(rm.view(23, 23)))\n",
        "    tm_padding = torch.tensor(padding_zero(tm.view(23, 23)))\n",
        "    xx_data_padding = torch.tensor(np.pad(xx_data, 11 ,constant_values = 0)).unsqueeze(0)\n",
        "    result_padding = torch.tensor(np.pad(result, 11 ,constant_values = 0))\n",
        "\n",
        "    # Combine the matrices into a single tensor\n",
        "    combined_matrix = torch.stack([rm_padding, tm_padding, result_padding], dim=0)\n",
        "\n",
        "    # Store the parameters in a dictionary or list\n",
        "    sample_dict = {\n",
        "        'sample number': f'{i}',\n",
        "        'matrix': combined_matrix,\n",
        "        'xx_data': xx_data_padding\n",
        "    }\n",
        "    sample_data.append(sample_dict)\n",
        "\n",
        "dataset_df = pd.DataFrame(sample_data)"
      ],
      "metadata": {
        "id": "5fFsGYgQ9xfs"
      },
      "execution_count": 7,
      "outputs": []
    },
    {
      "cell_type": "code",
      "source": [
        "dataset_df.head()"
      ],
      "metadata": {
        "colab": {
          "base_uri": "https://localhost:8080/",
          "height": 206
        },
        "id": "mtcymYEO-N3v",
        "outputId": "28757382-3d09-47ab-e426-a981eaa2eeae"
      },
      "execution_count": null,
      "outputs": [
        {
          "output_type": "execute_result",
          "data": {
            "text/plain": [
              "  sample number                                             matrix  \\\n",
              "0             0  [[[tensor(0., dtype=torch.float64), tensor(0.,...   \n",
              "1             1  [[[tensor(0., dtype=torch.float64), tensor(0.,...   \n",
              "2             2  [[[tensor(0., dtype=torch.float64), tensor(0.,...   \n",
              "3             3  [[[tensor(0., dtype=torch.float64), tensor(0.,...   \n",
              "4             4  [[[tensor(0., dtype=torch.float64), tensor(0.,...   \n",
              "\n",
              "                                             xx_data  \n",
              "0  [[[tensor(0, dtype=torch.uint8), tensor(0, dty...  \n",
              "1  [[[tensor(0, dtype=torch.uint8), tensor(0, dty...  \n",
              "2  [[[tensor(0, dtype=torch.uint8), tensor(0, dty...  \n",
              "3  [[[tensor(0, dtype=torch.uint8), tensor(0, dty...  \n",
              "4  [[[tensor(0, dtype=torch.uint8), tensor(0, dty...  "
            ],
            "text/html": [
              "\n",
              "  <div id=\"df-23ee3115-849f-4ad2-8f5b-4fbd839ba7df\" class=\"colab-df-container\">\n",
              "    <div>\n",
              "<style scoped>\n",
              "    .dataframe tbody tr th:only-of-type {\n",
              "        vertical-align: middle;\n",
              "    }\n",
              "\n",
              "    .dataframe tbody tr th {\n",
              "        vertical-align: top;\n",
              "    }\n",
              "\n",
              "    .dataframe thead th {\n",
              "        text-align: right;\n",
              "    }\n",
              "</style>\n",
              "<table border=\"1\" class=\"dataframe\">\n",
              "  <thead>\n",
              "    <tr style=\"text-align: right;\">\n",
              "      <th></th>\n",
              "      <th>sample number</th>\n",
              "      <th>matrix</th>\n",
              "      <th>xx_data</th>\n",
              "    </tr>\n",
              "  </thead>\n",
              "  <tbody>\n",
              "    <tr>\n",
              "      <th>0</th>\n",
              "      <td>0</td>\n",
              "      <td>[[[tensor(0., dtype=torch.float64), tensor(0.,...</td>\n",
              "      <td>[[[tensor(0, dtype=torch.uint8), tensor(0, dty...</td>\n",
              "    </tr>\n",
              "    <tr>\n",
              "      <th>1</th>\n",
              "      <td>1</td>\n",
              "      <td>[[[tensor(0., dtype=torch.float64), tensor(0.,...</td>\n",
              "      <td>[[[tensor(0, dtype=torch.uint8), tensor(0, dty...</td>\n",
              "    </tr>\n",
              "    <tr>\n",
              "      <th>2</th>\n",
              "      <td>2</td>\n",
              "      <td>[[[tensor(0., dtype=torch.float64), tensor(0.,...</td>\n",
              "      <td>[[[tensor(0, dtype=torch.uint8), tensor(0, dty...</td>\n",
              "    </tr>\n",
              "    <tr>\n",
              "      <th>3</th>\n",
              "      <td>3</td>\n",
              "      <td>[[[tensor(0., dtype=torch.float64), tensor(0.,...</td>\n",
              "      <td>[[[tensor(0, dtype=torch.uint8), tensor(0, dty...</td>\n",
              "    </tr>\n",
              "    <tr>\n",
              "      <th>4</th>\n",
              "      <td>4</td>\n",
              "      <td>[[[tensor(0., dtype=torch.float64), tensor(0.,...</td>\n",
              "      <td>[[[tensor(0, dtype=torch.uint8), tensor(0, dty...</td>\n",
              "    </tr>\n",
              "  </tbody>\n",
              "</table>\n",
              "</div>\n",
              "    <div class=\"colab-df-buttons\">\n",
              "\n",
              "  <div class=\"colab-df-container\">\n",
              "    <button class=\"colab-df-convert\" onclick=\"convertToInteractive('df-23ee3115-849f-4ad2-8f5b-4fbd839ba7df')\"\n",
              "            title=\"Convert this dataframe to an interactive table.\"\n",
              "            style=\"display:none;\">\n",
              "\n",
              "  <svg xmlns=\"http://www.w3.org/2000/svg\" height=\"24px\" viewBox=\"0 -960 960 960\">\n",
              "    <path d=\"M120-120v-720h720v720H120Zm60-500h600v-160H180v160Zm220 220h160v-160H400v160Zm0 220h160v-160H400v160ZM180-400h160v-160H180v160Zm440 0h160v-160H620v160ZM180-180h160v-160H180v160Zm440 0h160v-160H620v160Z\"/>\n",
              "  </svg>\n",
              "    </button>\n",
              "\n",
              "  <style>\n",
              "    .colab-df-container {\n",
              "      display:flex;\n",
              "      gap: 12px;\n",
              "    }\n",
              "\n",
              "    .colab-df-convert {\n",
              "      background-color: #E8F0FE;\n",
              "      border: none;\n",
              "      border-radius: 50%;\n",
              "      cursor: pointer;\n",
              "      display: none;\n",
              "      fill: #1967D2;\n",
              "      height: 32px;\n",
              "      padding: 0 0 0 0;\n",
              "      width: 32px;\n",
              "    }\n",
              "\n",
              "    .colab-df-convert:hover {\n",
              "      background-color: #E2EBFA;\n",
              "      box-shadow: 0px 1px 2px rgba(60, 64, 67, 0.3), 0px 1px 3px 1px rgba(60, 64, 67, 0.15);\n",
              "      fill: #174EA6;\n",
              "    }\n",
              "\n",
              "    .colab-df-buttons div {\n",
              "      margin-bottom: 4px;\n",
              "    }\n",
              "\n",
              "    [theme=dark] .colab-df-convert {\n",
              "      background-color: #3B4455;\n",
              "      fill: #D2E3FC;\n",
              "    }\n",
              "\n",
              "    [theme=dark] .colab-df-convert:hover {\n",
              "      background-color: #434B5C;\n",
              "      box-shadow: 0px 1px 3px 1px rgba(0, 0, 0, 0.15);\n",
              "      filter: drop-shadow(0px 1px 2px rgba(0, 0, 0, 0.3));\n",
              "      fill: #FFFFFF;\n",
              "    }\n",
              "  </style>\n",
              "\n",
              "    <script>\n",
              "      const buttonEl =\n",
              "        document.querySelector('#df-23ee3115-849f-4ad2-8f5b-4fbd839ba7df button.colab-df-convert');\n",
              "      buttonEl.style.display =\n",
              "        google.colab.kernel.accessAllowed ? 'block' : 'none';\n",
              "\n",
              "      async function convertToInteractive(key) {\n",
              "        const element = document.querySelector('#df-23ee3115-849f-4ad2-8f5b-4fbd839ba7df');\n",
              "        const dataTable =\n",
              "          await google.colab.kernel.invokeFunction('convertToInteractive',\n",
              "                                                    [key], {});\n",
              "        if (!dataTable) return;\n",
              "\n",
              "        const docLinkHtml = 'Like what you see? Visit the ' +\n",
              "          '<a target=\"_blank\" href=https://colab.research.google.com/notebooks/data_table.ipynb>data table notebook</a>'\n",
              "          + ' to learn more about interactive tables.';\n",
              "        element.innerHTML = '';\n",
              "        dataTable['output_type'] = 'display_data';\n",
              "        await google.colab.output.renderOutput(dataTable, element);\n",
              "        const docLink = document.createElement('div');\n",
              "        docLink.innerHTML = docLinkHtml;\n",
              "        element.appendChild(docLink);\n",
              "      }\n",
              "    </script>\n",
              "  </div>\n",
              "\n",
              "\n",
              "<div id=\"df-5b84d243-946d-4b26-8e00-b4ff420fce67\">\n",
              "  <button class=\"colab-df-quickchart\" onclick=\"quickchart('df-5b84d243-946d-4b26-8e00-b4ff420fce67')\"\n",
              "            title=\"Suggest charts.\"\n",
              "            style=\"display:none;\">\n",
              "\n",
              "<svg xmlns=\"http://www.w3.org/2000/svg\" height=\"24px\"viewBox=\"0 0 24 24\"\n",
              "     width=\"24px\">\n",
              "    <g>\n",
              "        <path d=\"M19 3H5c-1.1 0-2 .9-2 2v14c0 1.1.9 2 2 2h14c1.1 0 2-.9 2-2V5c0-1.1-.9-2-2-2zM9 17H7v-7h2v7zm4 0h-2V7h2v10zm4 0h-2v-4h2v4z\"/>\n",
              "    </g>\n",
              "</svg>\n",
              "  </button>\n",
              "\n",
              "<style>\n",
              "  .colab-df-quickchart {\n",
              "      --bg-color: #E8F0FE;\n",
              "      --fill-color: #1967D2;\n",
              "      --hover-bg-color: #E2EBFA;\n",
              "      --hover-fill-color: #174EA6;\n",
              "      --disabled-fill-color: #AAA;\n",
              "      --disabled-bg-color: #DDD;\n",
              "  }\n",
              "\n",
              "  [theme=dark] .colab-df-quickchart {\n",
              "      --bg-color: #3B4455;\n",
              "      --fill-color: #D2E3FC;\n",
              "      --hover-bg-color: #434B5C;\n",
              "      --hover-fill-color: #FFFFFF;\n",
              "      --disabled-bg-color: #3B4455;\n",
              "      --disabled-fill-color: #666;\n",
              "  }\n",
              "\n",
              "  .colab-df-quickchart {\n",
              "    background-color: var(--bg-color);\n",
              "    border: none;\n",
              "    border-radius: 50%;\n",
              "    cursor: pointer;\n",
              "    display: none;\n",
              "    fill: var(--fill-color);\n",
              "    height: 32px;\n",
              "    padding: 0;\n",
              "    width: 32px;\n",
              "  }\n",
              "\n",
              "  .colab-df-quickchart:hover {\n",
              "    background-color: var(--hover-bg-color);\n",
              "    box-shadow: 0 1px 2px rgba(60, 64, 67, 0.3), 0 1px 3px 1px rgba(60, 64, 67, 0.15);\n",
              "    fill: var(--button-hover-fill-color);\n",
              "  }\n",
              "\n",
              "  .colab-df-quickchart-complete:disabled,\n",
              "  .colab-df-quickchart-complete:disabled:hover {\n",
              "    background-color: var(--disabled-bg-color);\n",
              "    fill: var(--disabled-fill-color);\n",
              "    box-shadow: none;\n",
              "  }\n",
              "\n",
              "  .colab-df-spinner {\n",
              "    border: 2px solid var(--fill-color);\n",
              "    border-color: transparent;\n",
              "    border-bottom-color: var(--fill-color);\n",
              "    animation:\n",
              "      spin 1s steps(1) infinite;\n",
              "  }\n",
              "\n",
              "  @keyframes spin {\n",
              "    0% {\n",
              "      border-color: transparent;\n",
              "      border-bottom-color: var(--fill-color);\n",
              "      border-left-color: var(--fill-color);\n",
              "    }\n",
              "    20% {\n",
              "      border-color: transparent;\n",
              "      border-left-color: var(--fill-color);\n",
              "      border-top-color: var(--fill-color);\n",
              "    }\n",
              "    30% {\n",
              "      border-color: transparent;\n",
              "      border-left-color: var(--fill-color);\n",
              "      border-top-color: var(--fill-color);\n",
              "      border-right-color: var(--fill-color);\n",
              "    }\n",
              "    40% {\n",
              "      border-color: transparent;\n",
              "      border-right-color: var(--fill-color);\n",
              "      border-top-color: var(--fill-color);\n",
              "    }\n",
              "    60% {\n",
              "      border-color: transparent;\n",
              "      border-right-color: var(--fill-color);\n",
              "    }\n",
              "    80% {\n",
              "      border-color: transparent;\n",
              "      border-right-color: var(--fill-color);\n",
              "      border-bottom-color: var(--fill-color);\n",
              "    }\n",
              "    90% {\n",
              "      border-color: transparent;\n",
              "      border-bottom-color: var(--fill-color);\n",
              "    }\n",
              "  }\n",
              "</style>\n",
              "\n",
              "  <script>\n",
              "    async function quickchart(key) {\n",
              "      const quickchartButtonEl =\n",
              "        document.querySelector('#' + key + ' button');\n",
              "      quickchartButtonEl.disabled = true;  // To prevent multiple clicks.\n",
              "      quickchartButtonEl.classList.add('colab-df-spinner');\n",
              "      try {\n",
              "        const charts = await google.colab.kernel.invokeFunction(\n",
              "            'suggestCharts', [key], {});\n",
              "      } catch (error) {\n",
              "        console.error('Error during call to suggestCharts:', error);\n",
              "      }\n",
              "      quickchartButtonEl.classList.remove('colab-df-spinner');\n",
              "      quickchartButtonEl.classList.add('colab-df-quickchart-complete');\n",
              "    }\n",
              "    (() => {\n",
              "      let quickchartButtonEl =\n",
              "        document.querySelector('#df-5b84d243-946d-4b26-8e00-b4ff420fce67 button');\n",
              "      quickchartButtonEl.style.display =\n",
              "        google.colab.kernel.accessAllowed ? 'block' : 'none';\n",
              "    })();\n",
              "  </script>\n",
              "</div>\n",
              "    </div>\n",
              "  </div>\n"
            ]
          },
          "metadata": {},
          "execution_count": 9
        }
      ]
    },
    {
      "cell_type": "code",
      "source": [
        "# Convert the 'matrix' column to a list of tensors\n",
        "matrix_tensors = list(dataset_df['matrix'])\n",
        "\n",
        "# Calculate mean and std for normalization\n",
        "mean_value = torch.stack(matrix_tensors).mean(dim=(0, 2, 3))\n",
        "std_value = torch.stack(matrix_tensors).std(dim=(0, 2, 3))\n",
        "\n",
        "# Define normalization transformation\n",
        "normalize = transforms.Normalize(mean=mean_value.tolist(), std=std_value.tolist())\n",
        "\n",
        "# Apply normalization to each tensor in the 'matrix' column\n",
        "for i in range(len(dataset_df)):\n",
        "    matrix_tensor = dataset_df['matrix'][i]\n",
        "    normalized_matrix = normalize(matrix_tensor)\n",
        "    dataset_df.at[i, 'matrix'] = normalized_matrix"
      ],
      "metadata": {
        "id": "ZwwTjD3Q-OeE"
      },
      "execution_count": 8,
      "outputs": []
    },
    {
      "cell_type": "markdown",
      "source": [
        "The light matrix:"
      ],
      "metadata": {
        "id": "EnflOGX3Cjkx"
      }
    },
    {
      "cell_type": "code",
      "source": [
        "fig, axs = plt.subplots(1, 4, figsize=(20, 4))\n",
        "\n",
        "for i, ax in enumerate(axs):\n",
        "    img = dataset_df['matrix'][i]\n",
        "    img_np = img.permute(1, 2, 0).numpy()\n",
        "    img_np = img_np.clip(0, 1)\n",
        "\n",
        "    ax.imshow(img_np)\n",
        "    ax.set_title('Matrix ' + str(i+1))\n",
        "    ax.axis('off')\n",
        "\n",
        "plt.tight_layout()\n",
        "plt.show()"
      ],
      "metadata": {
        "colab": {
          "base_uri": "https://localhost:8080/",
          "height": 399
        },
        "id": "vYcA34YfB4Vi",
        "outputId": "fcf2386a-7866-4106-b7f8-c3645234c5f8"
      },
      "execution_count": null,
      "outputs": [
        {
          "output_type": "display_data",
          "data": {
            "text/plain": [
              "<Figure size 2000x400 with 4 Axes>"
            ],
            "image/png": "[encoded data removed]"
          },
          "metadata": {}
        }
      ]
    },
    {
      "cell_type": "code",
      "source": [
        "dataset_df['matrix'][0].shape"
      ],
      "metadata": {
        "colab": {
          "base_uri": "https://localhost:8080/"
        },
        "id": "llyiAW-r_F08",
        "outputId": "188de292-42d7-4b5b-ac56-06384153e082"
      },
      "execution_count": null,
      "outputs": [
        {
          "output_type": "execute_result",
          "data": {
            "text/plain": [
              "torch.Size([3, 32, 32])"
            ]
          },
          "metadata": {},
          "execution_count": 12
        }
      ]
    },
    {
      "cell_type": "markdown",
      "source": [
        "The pattern matrix:"
      ],
      "metadata": {
        "id": "YRkjY_ifCnmt"
      }
    },
    {
      "cell_type": "code",
      "source": [
        "fig, axs = plt.subplots(1, 4, figsize=(20, 4))\n",
        "\n",
        "for i, ax in enumerate(axs):\n",
        "    img = dataset_df['xx_data'][i][0]\n",
        "\n",
        "    ax.imshow(img, cmap='gray', vmin=0, vmax=1)\n",
        "    ax.set_title('Pattern '+ str(i+1))\n",
        "    ax.axis('off')\n",
        "\n",
        "plt.tight_layout()\n",
        "plt.show()"
      ],
      "metadata": {
        "colab": {
          "base_uri": "https://localhost:8080/",
          "height": 399
        },
        "id": "umHXJQRqCnHK",
        "outputId": "5fdc6a63-ba9c-4de7-de59-edae557bd508"
      },
      "execution_count": null,
      "outputs": [
        {
          "output_type": "display_data",
          "data": {
            "text/plain": [
              "<Figure size 2000x400 with 4 Axes>"
            ],
            "image/png": "[encoded data removed]"
          },
          "metadata": {}
        }
      ]
    },
    {
      "cell_type": "code",
      "source": [
        "dataset_df['xx_data'][0].shape"
      ],
      "metadata": {
        "colab": {
          "base_uri": "https://localhost:8080/"
        },
        "id": "O5AZ-kTqC0qy",
        "outputId": "cf6d795c-3a2d-428e-de6c-10153480a6da"
      },
      "execution_count": null,
      "outputs": [
        {
          "output_type": "execute_result",
          "data": {
            "text/plain": [
              "torch.Size([1, 32, 32])"
            ]
          },
          "metadata": {},
          "execution_count": 67
        }
      ]
    },
    {
      "cell_type": "code",
      "source": [
        "matrix = dataset_df[\"matrix\"].tolist()  # Convert to a list of tensors\n",
        "xx_data = dataset_df[\"xx_data\"].tolist()  # Convert to a list of tensors"
      ],
      "metadata": {
        "id": "dIyx4izCD9ap"
      },
      "execution_count": 9,
      "outputs": []
    },
    {
      "cell_type": "code",
      "source": [
        "# Convert lists of tensors to PyTorch tensors\n",
        "matrix = torch.stack(matrix)\n",
        "xx_data = [x.view(1, 32, 32) for x in xx_data]\n",
        "xx_data = torch.stack(xx_data)"
      ],
      "metadata": {
        "id": "WTpclbE7C3nB"
      },
      "execution_count": 10,
      "outputs": []
    },
    {
      "cell_type": "markdown",
      "source": [
        "Dividing the training data and test data:"
      ],
      "metadata": {
        "id": "7Nhk7ZNkFafc"
      }
    },
    {
      "cell_type": "code",
      "source": [
        "matrix_train, matrix_test, xx_data_train, xx_data_test = train_test_split(matrix, xx_data, test_size=0.08, random_state=42)\n",
        "print('matrix train shape:', matrix_train.shape)\n",
        "print('xx_data train shape:', xx_data_train.shape)\n",
        "print('matrix test shape:', matrix_test.shape)\n",
        "print('xx_data test shape:', xx_data_test.shape)"
      ],
      "metadata": {
        "colab": {
          "base_uri": "https://localhost:8080/"
        },
        "id": "9WoQYxzAETG5",
        "outputId": "c8e7163d-263c-4a6a-ea84-caf08e48e148"
      },
      "execution_count": 11,
      "outputs": [
        {
          "output_type": "stream",
          "name": "stdout",
          "text": [
            "matrix train shape: torch.Size([23000, 3, 32, 32])\n",
            "xx_data train shape: torch.Size([23000, 1, 32, 32])\n",
            "matrix test shape: torch.Size([2000, 3, 32, 32])\n",
            "xx_data test shape: torch.Size([2000, 1, 32, 32])\n"
          ]
        }
      ]
    },
    {
      "cell_type": "code",
      "source": [
        "batch_size = 20\n",
        "train_dataset = TensorDataset(matrix_train.to(torch.float32),xx_data_train.to(torch.float32))\n",
        "train_loader = torch.utils.data.DataLoader(train_dataset, batch_size=batch_size)\n",
        "test_dataset = TensorDataset(matrix_test.to(torch.float32),xx_data_test.to(torch.float32))\n",
        "test_loader = torch.utils.data.DataLoader(test_dataset, batch_size=batch_size)"
      ],
      "metadata": {
        "id": "7uZT77DzGcQ3"
      },
      "execution_count": 12,
      "outputs": []
    },
    {
      "cell_type": "code",
      "source": [
        "xb = next(iter(train_loader))[1].to(device)[:8]\n",
        "print(\"X shape:\", xb.shape)\n",
        "show_images(xb).resize((100 * 10, 100), resample=Image.NEAREST)"
      ],
      "metadata": {
        "colab": {
          "base_uri": "https://localhost:8080/",
          "height": 134
        },
        "id": "NUv4ijiiH85X",
        "outputId": "ec6efefd-687d-42c4-b17c-66b1fd35a161"
      },
      "execution_count": null,
      "outputs": [
        {
          "output_type": "stream",
          "name": "stdout",
          "text": [
            "X shape: torch.Size([8, 1, 32, 32])\n"
          ]
        },
        {
          "output_type": "execute_result",
          "data": {
            "text/plain": [
              "<PIL.Image.Image image mode=RGB size=1000x100>"
            ],
            "image/png": "[encoded data removed]"
          },
          "metadata": {},
          "execution_count": 27
        }
      ]
    },
    {
      "cell_type": "markdown",
      "source": [
        "---"
      ],
      "metadata": {
        "id": "x1NbmwZfX-cf"
      }
    },
    {
      "cell_type": "markdown",
      "source": [
        "### ***Define the Scheduler***\n"
      ],
      "metadata": {
        "id": "jFTEaQbgIUkk"
      }
    },
    {
      "cell_type": "code",
      "source": [
        "noise_scheduler = DDPMScheduler(num_train_timesteps=1000, beta_schedule=\"squaredcos_cap_v2\")"
      ],
      "metadata": {
        "id": "5mgZEizKIUG5"
      },
      "execution_count": 13,
      "outputs": []
    },
    {
      "cell_type": "code",
      "source": [
        "timesteps = torch.linspace(0, 999, 8).long().to(device)\n",
        "noise = torch.randn_like(xb)\n",
        "noisy_xb = noise_scheduler.add_noise(xb, noise, timesteps)\n",
        "print(\"Noisy X shape\", noisy_xb.shape)\n",
        "show_images(noisy_xb).resize((100 * 10, 100), resample=Image.NEAREST)"
      ],
      "metadata": {
        "colab": {
          "base_uri": "https://localhost:8080/",
          "height": 134
        },
        "id": "YLRo9P8KIcAw",
        "outputId": "e7680f61-8145-4163-dbd0-d41e7a2e62e5"
      },
      "execution_count": null,
      "outputs": [
        {
          "output_type": "stream",
          "name": "stdout",
          "text": [
            "Noisy X shape torch.Size([8, 1, 32, 32])\n"
          ]
        },
        {
          "output_type": "execute_result",
          "data": {
            "text/plain": [
              "<PIL.Image.Image image mode=RGB size=1000x100>"
            ],
            "image/png": "[encoded data removed]"
          },
          "metadata": {},
          "execution_count": 29
        }
      ]
    },
    {
      "cell_type": "markdown",
      "source": [
        "### ***Define the Model***\n"
      ],
      "metadata": {
        "id": "jARJ8ZKLIhse"
      }
    },
    {
      "cell_type": "code",
      "source": [
        "class ClassConditionedUnet(nn.Module):\n",
        "  def __init__(self, num_classes=20000, class_emb_size=3):\n",
        "    super().__init__()\n",
        "\n",
        "    # The embedding layer will map the class label to a vector of size class_emb_size\n",
        "    self.class_emb = nn.Embedding(num_classes, class_emb_size)\n",
        "\n",
        "    # Self.model is an unconditional UNet with extra input channels to accept the conditioning information (the class embedding)\n",
        "    self.model = UNet2DModel(\n",
        "        sample_size= 32,           # the target image resolution\n",
        "        in_channels= 1 + class_emb_size, # Additional input channels for class cond.\n",
        "        out_channels= 1,           # the number of output channels\n",
        "        layers_per_block= 2,       # how many ResNet layers to use per UNet block\n",
        "        block_out_channels= (32 ,64 ,64),\n",
        "        down_block_types=(\n",
        "            \"DownBlock2D\",        # a regular ResNet downsampling block\n",
        "            \"AttnDownBlock2D\",    # a ResNet downsampling block with spatial self-attention\n",
        "            \"AttnDownBlock2D\",\n",
        "        ),\n",
        "        up_block_types=(\n",
        "            \"AttnUpBlock2D\",\n",
        "            \"AttnUpBlock2D\",      # a ResNet upsampling block with spatial self-attention\n",
        "            \"UpBlock2D\",\n",
        "          ),\n",
        "    )\n",
        "\n",
        "  # Our forward method now takes the class labels as an additional argument\n",
        "  def forward(self, x, t, matrix):\n",
        "    # Shape of x:\n",
        "    bs = 20\n",
        "    ch = 3\n",
        "    w = 32\n",
        "    h = 32\n",
        "\n",
        "    # Net input is now x and class cond concatenated together along dimension 1\n",
        "    net_input = torch.cat((x, matrix), 1) # (bs, 4, 32, 32)\n",
        "\n",
        "    # Feed this to the unet alongside the timestep and return the prediction\n",
        "    return self.model(net_input, t).sample # (bs, 1, 32, 32)"
      ],
      "metadata": {
        "id": "rg4clFJ0IcHo"
      },
      "execution_count": 14,
      "outputs": []
    },
    {
      "cell_type": "markdown",
      "source": [
        "### ***Create a Training Loop***\n",
        "The following batches were run:\n",
        "16, 20, 24, 32"
      ],
      "metadata": {
        "id": "v8GwJT8QLFyJ"
      }
    },
    {
      "cell_type": "code",
      "source": [
        "model = ClassConditionedUnet().to(device)\n",
        "\n",
        "# Define the batch size and number of epochs\n",
        "batch_size = 32\n",
        "n_epochs = 50\n",
        "\n",
        "# Create lists for loss functions and learning rates\n",
        "loss_functions = [nn.MSELoss(), nn.L1Loss(), nn.HuberLoss()]\n",
        "learning_rates = [2e-1, 1e-2, 4e-3, 3e-4]\n",
        "\n",
        "# Initialize an empty DataFrame to store the results\n",
        "results_df = pd.DataFrame(columns=['Loss Function', 'Learning Rate', 'Final Loss', 'batch size'])\n",
        "\n",
        "# The training loop for different combinations of loss functions and learning rates\n",
        "for loss_fn in loss_functions:\n",
        "    for lr in learning_rates:\n",
        "        # Create a new model and optimizer for each combination\n",
        "        model = ClassConditionedUnet().to(device)\n",
        "        opt = torch.optim.Adam(model.parameters(), lr=lr)\n",
        "\n",
        "        # Keeping a record of the losses for later viewing\n",
        "        losses = []\n",
        "\n",
        "        # The training loop\n",
        "        for epoch in range(n_epochs):\n",
        "            for matrix, pattern in tqdm(train_loader):\n",
        "\n",
        "                # Get some data and prepare the corrupted version\n",
        "                matrix = matrix.to(device) * 2 - 1\n",
        "                pattern = pattern.to(device)\n",
        "                noise = torch.randn_like(pattern)\n",
        "                timesteps = torch.randint(0, 999, (pattern.shape[0],)).long().to(device)\n",
        "                noisy_step = noise_scheduler.add_noise(pattern, noise, timesteps)\n",
        "\n",
        "                # Get the model prediction\n",
        "                pred = model(noisy_step, timesteps, matrix.long())\n",
        "\n",
        "                # Calculate the loss\n",
        "                loss = loss_fn(pred, pattern)\n",
        "\n",
        "                # Backprop and update the params:\n",
        "                opt.zero_grad()\n",
        "                loss.backward()\n",
        "                opt.step()\n",
        "\n",
        "                # Store the loss for later\n",
        "                losses.append(loss.item())\n",
        "\n",
        "            # Print our the average of the last 100 loss values to get an idea of progress:\n",
        "            print(f'Finished epoch {epoch}')\n",
        "\n",
        "        # Store the final loss in the DataFrame\n",
        "        final_loss = losses[-1]\n",
        "        results_df = results_df.append({'Loss Function': str(loss_fn), 'Learning Rate': f'{lr:.1e}', 'Final Loss': final_loss, 'batch size': 32}, ignore_index=True)\n",
        "\n",
        "        # Print the results for the current combination\n",
        "        print(f'Loss Function: {loss_fn}, Learning Rate: {lr:.1e}, Final Loss: {final_loss}')"
      ],
      "metadata": {
        "id": "40OTPurH_jHc"
      },
      "execution_count": null,
      "outputs": []
    },
    {
      "cell_type": "markdown",
      "source": [
        "We connected all the results to a dataframe and saved"
      ],
      "metadata": {
        "id": "1XoKtZgiMPsM"
      }
    },
    {
      "cell_type": "code",
      "source": [
        "path = '/content/drive/MyDrive/Deep learning/Final Project/combined_df.pkl'\n",
        "combined_df = pd.read_pickle(path)"
      ],
      "metadata": {
        "id": "DaXXpuzeJiTq"
      },
      "execution_count": null,
      "outputs": []
    },
    {
      "cell_type": "code",
      "source": [
        "pivot_table = combined_df.pivot(index= 'Learning Rate', columns= ['batch size','Loss Function',], values='Final Loss')\n",
        "pivot_table"
      ],
      "metadata": {
        "colab": {
          "base_uri": "https://localhost:8080/",
          "height": 237
        },
        "id": "Y3GcF8yQjmZ5",
        "outputId": "f6faa401-8c54-4081-9e14-afcb63090d63"
      },
      "execution_count": null,
      "outputs": [
        {
          "output_type": "execute_result",
          "data": {
            "text/plain": [
              "batch size           16                              20                        \\\n",
              "Loss Function MSELoss()  L1Loss() HuberLoss() MSELoss()  L1Loss() HuberLoss()   \n",
              "Learning Rate                                                                   \n",
              "1.0e-02        0.046664  0.053940    0.023332  0.047459  0.051601    0.023732   \n",
              "2.0e-01        0.047020  0.113538    0.023508  0.047689  0.062936    0.023836   \n",
              "3.0e-04        0.000005  0.000303    0.000002  0.000006  0.000705    0.000003   \n",
              "4.0e-03        0.000036  0.031949    0.000028  0.000060  0.005799    0.000013   \n",
              "\n",
              "batch size           24                              32                        \n",
              "Loss Function MSELoss()  L1Loss() HuberLoss() MSELoss()  L1Loss() HuberLoss()  \n",
              "Learning Rate                                                                  \n",
              "1.0e-02        0.046662  0.050402    0.023332  0.484380  0.052113    0.024217  \n",
              "2.0e-01        0.252047  0.089244    0.023331  0.048520  0.232394    0.024259  \n",
              "3.0e-04        0.000011  0.000463    0.000007  0.000005  0.000549    0.000002  \n",
              "4.0e-03        0.000074  0.036567    0.000027  0.000181  0.028004    0.000063  "
            ],
            "text/html": [
              "\n",
              "  <div id=\"df-b5ab6a03-e70c-4aaa-9553-b4f9a822038c\" class=\"colab-df-container\">\n",
              "    <div>\n",
              "<style scoped>\n",
              "    .dataframe tbody tr th:only-of-type {\n",
              "        vertical-align: middle;\n",
              "    }\n",
              "\n",
              "    .dataframe tbody tr th {\n",
              "        vertical-align: top;\n",
              "    }\n",
              "\n",
              "    .dataframe thead tr th {\n",
              "        text-align: left;\n",
              "    }\n",
              "\n",
              "    .dataframe thead tr:last-of-type th {\n",
              "        text-align: right;\n",
              "    }\n",
              "</style>\n",
              "<table border=\"1\" class=\"dataframe\">\n",
              "  <thead>\n",
              "    <tr>\n",
              "      <th>batch size</th>\n",
              "      <th colspan=\"3\" halign=\"left\">16</th>\n",
              "      <th colspan=\"3\" halign=\"left\">20</th>\n",
              "      <th colspan=\"3\" halign=\"left\">24</th>\n",
              "      <th colspan=\"3\" halign=\"left\">32</th>\n",
              "    </tr>\n",
              "    <tr>\n",
              "      <th>Loss Function</th>\n",
              "      <th>MSELoss()</th>\n",
              "      <th>L1Loss()</th>\n",
              "      <th>HuberLoss()</th>\n",
              "      <th>MSELoss()</th>\n",
              "      <th>L1Loss()</th>\n",
              "      <th>HuberLoss()</th>\n",
              "      <th>MSELoss()</th>\n",
              "      <th>L1Loss()</th>\n",
              "      <th>HuberLoss()</th>\n",
              "      <th>MSELoss()</th>\n",
              "      <th>L1Loss()</th>\n",
              "      <th>HuberLoss()</th>\n",
              "    </tr>\n",
              "    <tr>\n",
              "      <th>Learning Rate</th>\n",
              "      <th></th>\n",
              "      <th></th>\n",
              "      <th></th>\n",
              "      <th></th>\n",
              "      <th></th>\n",
              "      <th></th>\n",
              "      <th></th>\n",
              "      <th></th>\n",
              "      <th></th>\n",
              "      <th></th>\n",
              "      <th></th>\n",
              "      <th></th>\n",
              "    </tr>\n",
              "  </thead>\n",
              "  <tbody>\n",
              "    <tr>\n",
              "      <th>1.0e-02</th>\n",
              "      <td>0.046664</td>\n",
              "      <td>0.053940</td>\n",
              "      <td>0.023332</td>\n",
              "      <td>0.047459</td>\n",
              "      <td>0.051601</td>\n",
              "      <td>0.023732</td>\n",
              "      <td>0.046662</td>\n",
              "      <td>0.050402</td>\n",
              "      <td>0.023332</td>\n",
              "      <td>0.484380</td>\n",
              "      <td>0.052113</td>\n",
              "      <td>0.024217</td>\n",
              "    </tr>\n",
              "    <tr>\n",
              "      <th>2.0e-01</th>\n",
              "      <td>0.047020</td>\n",
              "      <td>0.113538</td>\n",
              "      <td>0.023508</td>\n",
              "      <td>0.047689</td>\n",
              "      <td>0.062936</td>\n",
              "      <td>0.023836</td>\n",
              "      <td>0.252047</td>\n",
              "      <td>0.089244</td>\n",
              "      <td>0.023331</td>\n",
              "      <td>0.048520</td>\n",
              "      <td>0.232394</td>\n",
              "      <td>0.024259</td>\n",
              "    </tr>\n",
              "    <tr>\n",
              "      <th>3.0e-04</th>\n",
              "      <td>0.000005</td>\n",
              "      <td>0.000303</td>\n",
              "      <td>0.000002</td>\n",
              "      <td>0.000006</td>\n",
              "      <td>0.000705</td>\n",
              "      <td>0.000003</td>\n",
              "      <td>0.000011</td>\n",
              "      <td>0.000463</td>\n",
              "      <td>0.000007</td>\n",
              "      <td>0.000005</td>\n",
              "      <td>0.000549</td>\n",
              "      <td>0.000002</td>\n",
              "    </tr>\n",
              "    <tr>\n",
              "      <th>4.0e-03</th>\n",
              "      <td>0.000036</td>\n",
              "      <td>0.031949</td>\n",
              "      <td>0.000028</td>\n",
              "      <td>0.000060</td>\n",
              "      <td>0.005799</td>\n",
              "      <td>0.000013</td>\n",
              "      <td>0.000074</td>\n",
              "      <td>0.036567</td>\n",
              "      <td>0.000027</td>\n",
              "      <td>0.000181</td>\n",
              "      <td>0.028004</td>\n",
              "      <td>0.000063</td>\n",
              "    </tr>\n",
              "  </tbody>\n",
              "</table>\n",
              "</div>\n",
              "    <div class=\"colab-df-buttons\">\n",
              "\n",
              "  <div class=\"colab-df-container\">\n",
              "    <button class=\"colab-df-convert\" onclick=\"convertToInteractive('df-b5ab6a03-e70c-4aaa-9553-b4f9a822038c')\"\n",
              "            title=\"Convert this dataframe to an interactive table.\"\n",
              "            style=\"display:none;\">\n",
              "\n",
              "  <svg xmlns=\"http://www.w3.org/2000/svg\" height=\"24px\" viewBox=\"0 -960 960 960\">\n",
              "    <path d=\"M120-120v-720h720v720H120Zm60-500h600v-160H180v160Zm220 220h160v-160H400v160Zm0 220h160v-160H400v160ZM180-400h160v-160H180v160Zm440 0h160v-160H620v160ZM180-180h160v-160H180v160Zm440 0h160v-160H620v160Z\"/>\n",
              "  </svg>\n",
              "    </button>\n",
              "\n",
              "  <style>\n",
              "    .colab-df-container {\n",
              "      display:flex;\n",
              "      gap: 12px;\n",
              "    }\n",
              "\n",
              "    .colab-df-convert {\n",
              "      background-color: #E8F0FE;\n",
              "      border: none;\n",
              "      border-radius: 50%;\n",
              "      cursor: pointer;\n",
              "      display: none;\n",
              "      fill: #1967D2;\n",
              "      height: 32px;\n",
              "      padding: 0 0 0 0;\n",
              "      width: 32px;\n",
              "    }\n",
              "\n",
              "    .colab-df-convert:hover {\n",
              "      background-color: #E2EBFA;\n",
              "      box-shadow: 0px 1px 2px rgba(60, 64, 67, 0.3), 0px 1px 3px 1px rgba(60, 64, 67, 0.15);\n",
              "      fill: #174EA6;\n",
              "    }\n",
              "\n",
              "    .colab-df-buttons div {\n",
              "      margin-bottom: 4px;\n",
              "    }\n",
              "\n",
              "    [theme=dark] .colab-df-convert {\n",
              "      background-color: #3B4455;\n",
              "      fill: #D2E3FC;\n",
              "    }\n",
              "\n",
              "    [theme=dark] .colab-df-convert:hover {\n",
              "      background-color: #434B5C;\n",
              "      box-shadow: 0px 1px 3px 1px rgba(0, 0, 0, 0.15);\n",
              "      filter: drop-shadow(0px 1px 2px rgba(0, 0, 0, 0.3));\n",
              "      fill: #FFFFFF;\n",
              "    }\n",
              "  </style>\n",
              "\n",
              "    <script>\n",
              "      const buttonEl =\n",
              "        document.querySelector('#df-b5ab6a03-e70c-4aaa-9553-b4f9a822038c button.colab-df-convert');\n",
              "      buttonEl.style.display =\n",
              "        google.colab.kernel.accessAllowed ? 'block' : 'none';\n",
              "\n",
              "      async function convertToInteractive(key) {\n",
              "        const element = document.querySelector('#df-b5ab6a03-e70c-4aaa-9553-b4f9a822038c');\n",
              "        const dataTable =\n",
              "          await google.colab.kernel.invokeFunction('convertToInteractive',\n",
              "                                                    [key], {});\n",
              "        if (!dataTable) return;\n",
              "\n",
              "        const docLinkHtml = 'Like what you see? Visit the ' +\n",
              "          '<a target=\"_blank\" href=https://colab.research.google.com/notebooks/data_table.ipynb>data table notebook</a>'\n",
              "          + ' to learn more about interactive tables.';\n",
              "        element.innerHTML = '';\n",
              "        dataTable['output_type'] = 'display_data';\n",
              "        await google.colab.output.renderOutput(dataTable, element);\n",
              "        const docLink = document.createElement('div');\n",
              "        docLink.innerHTML = docLinkHtml;\n",
              "        element.appendChild(docLink);\n",
              "      }\n",
              "    </script>\n",
              "  </div>\n",
              "\n",
              "\n",
              "<div id=\"df-d4f45efb-25e8-4714-8360-fcc6040da79c\">\n",
              "  <button class=\"colab-df-quickchart\" onclick=\"quickchart('df-d4f45efb-25e8-4714-8360-fcc6040da79c')\"\n",
              "            title=\"Suggest charts.\"\n",
              "            style=\"display:none;\">\n",
              "\n",
              "<svg xmlns=\"http://www.w3.org/2000/svg\" height=\"24px\"viewBox=\"0 0 24 24\"\n",
              "     width=\"24px\">\n",
              "    <g>\n",
              "        <path d=\"M19 3H5c-1.1 0-2 .9-2 2v14c0 1.1.9 2 2 2h14c1.1 0 2-.9 2-2V5c0-1.1-.9-2-2-2zM9 17H7v-7h2v7zm4 0h-2V7h2v10zm4 0h-2v-4h2v4z\"/>\n",
              "    </g>\n",
              "</svg>\n",
              "  </button>\n",
              "\n",
              "<style>\n",
              "  .colab-df-quickchart {\n",
              "      --bg-color: #E8F0FE;\n",
              "      --fill-color: #1967D2;\n",
              "      --hover-bg-color: #E2EBFA;\n",
              "      --hover-fill-color: #174EA6;\n",
              "      --disabled-fill-color: #AAA;\n",
              "      --disabled-bg-color: #DDD;\n",
              "  }\n",
              "\n",
              "  [theme=dark] .colab-df-quickchart {\n",
              "      --bg-color: #3B4455;\n",
              "      --fill-color: #D2E3FC;\n",
              "      --hover-bg-color: #434B5C;\n",
              "      --hover-fill-color: #FFFFFF;\n",
              "      --disabled-bg-color: #3B4455;\n",
              "      --disabled-fill-color: #666;\n",
              "  }\n",
              "\n",
              "  .colab-df-quickchart {\n",
              "    background-color: var(--bg-color);\n",
              "    border: none;\n",
              "    border-radius: 50%;\n",
              "    cursor: pointer;\n",
              "    display: none;\n",
              "    fill: var(--fill-color);\n",
              "    height: 32px;\n",
              "    padding: 0;\n",
              "    width: 32px;\n",
              "  }\n",
              "\n",
              "  .colab-df-quickchart:hover {\n",
              "    background-color: var(--hover-bg-color);\n",
              "    box-shadow: 0 1px 2px rgba(60, 64, 67, 0.3), 0 1px 3px 1px rgba(60, 64, 67, 0.15);\n",
              "    fill: var(--button-hover-fill-color);\n",
              "  }\n",
              "\n",
              "  .colab-df-quickchart-complete:disabled,\n",
              "  .colab-df-quickchart-complete:disabled:hover {\n",
              "    background-color: var(--disabled-bg-color);\n",
              "    fill: var(--disabled-fill-color);\n",
              "    box-shadow: none;\n",
              "  }\n",
              "\n",
              "  .colab-df-spinner {\n",
              "    border: 2px solid var(--fill-color);\n",
              "    border-color: transparent;\n",
              "    border-bottom-color: var(--fill-color);\n",
              "    animation:\n",
              "      spin 1s steps(1) infinite;\n",
              "  }\n",
              "\n",
              "  @keyframes spin {\n",
              "    0% {\n",
              "      border-color: transparent;\n",
              "      border-bottom-color: var(--fill-color);\n",
              "      border-left-color: var(--fill-color);\n",
              "    }\n",
              "    20% {\n",
              "      border-color: transparent;\n",
              "      border-left-color: var(--fill-color);\n",
              "      border-top-color: var(--fill-color);\n",
              "    }\n",
              "    30% {\n",
              "      border-color: transparent;\n",
              "      border-left-color: var(--fill-color);\n",
              "      border-top-color: var(--fill-color);\n",
              "      border-right-color: var(--fill-color);\n",
              "    }\n",
              "    40% {\n",
              "      border-color: transparent;\n",
              "      border-right-color: var(--fill-color);\n",
              "      border-top-color: var(--fill-color);\n",
              "    }\n",
              "    60% {\n",
              "      border-color: transparent;\n",
              "      border-right-color: var(--fill-color);\n",
              "    }\n",
              "    80% {\n",
              "      border-color: transparent;\n",
              "      border-right-color: var(--fill-color);\n",
              "      border-bottom-color: var(--fill-color);\n",
              "    }\n",
              "    90% {\n",
              "      border-color: transparent;\n",
              "      border-bottom-color: var(--fill-color);\n",
              "    }\n",
              "  }\n",
              "</style>\n",
              "\n",
              "  <script>\n",
              "    async function quickchart(key) {\n",
              "      const quickchartButtonEl =\n",
              "        document.querySelector('#' + key + ' button');\n",
              "      quickchartButtonEl.disabled = true;  // To prevent multiple clicks.\n",
              "      quickchartButtonEl.classList.add('colab-df-spinner');\n",
              "      try {\n",
              "        const charts = await google.colab.kernel.invokeFunction(\n",
              "            'suggestCharts', [key], {});\n",
              "      } catch (error) {\n",
              "        console.error('Error during call to suggestCharts:', error);\n",
              "      }\n",
              "      quickchartButtonEl.classList.remove('colab-df-spinner');\n",
              "      quickchartButtonEl.classList.add('colab-df-quickchart-complete');\n",
              "    }\n",
              "    (() => {\n",
              "      let quickchartButtonEl =\n",
              "        document.querySelector('#df-d4f45efb-25e8-4714-8360-fcc6040da79c button');\n",
              "      quickchartButtonEl.style.display =\n",
              "        google.colab.kernel.accessAllowed ? 'block' : 'none';\n",
              "    })();\n",
              "  </script>\n",
              "</div>\n",
              "    </div>\n",
              "  </div>\n"
            ]
          },
          "metadata": {},
          "execution_count": 17
        }
      ]
    },
    {
      "cell_type": "code",
      "source": [
        "plt.figure(figsize=(12, 6))\n",
        "sns.barplot(data=combined_df, x='batch size', y='Final Loss', hue='Loss Function', errorbar=None)\n",
        "plt.xlabel('Batch Size')\n",
        "plt.ylabel('Final Loss')\n",
        "plt.title('Final Loss for Different Batch Sizes and Loss Functions')\n",
        "plt.legend(title='Loss Function', loc='upper right')\n",
        "plt.tight_layout()\n",
        "plt.show()"
      ],
      "metadata": {
        "colab": {
          "base_uri": "https://localhost:8080/",
          "height": 601
        },
        "id": "9nWsn1XVNjkv",
        "outputId": "d4487e46-9aee-49f5-e981-0cd7f61124de"
      },
      "execution_count": null,
      "outputs": [
        {
          "output_type": "display_data",
          "data": {
            "text/plain": [
              "<Figure size 1200x600 with 1 Axes>"
            ],
            "image/png": "[encoded data removed]"
          },
          "metadata": {}
        }
      ]
    },
    {
      "cell_type": "markdown",
      "source": [
        "As a result of the pivot table and the graph, we chose batch 20."
      ],
      "metadata": {
        "id": "SX7RNpQTj1JI"
      }
    },
    {
      "cell_type": "code",
      "source": [
        "# Define the learning rates you want to plot as strings\n",
        "learning_rates = ['2.0e-01', '1.0e-02', '4.0e-03', '3.0e-04']\n",
        "\n",
        "# Create a 2x2 grid of subplots\n",
        "fig, axs = plt.subplots(2, 2, figsize=(10, 8))\n",
        "axs = axs.ravel()  # Flatten the 2x2 grid for easier indexing\n",
        "\n",
        "# Loop through the learning rates and create a pie chart for each\n",
        "for i, lr in enumerate(learning_rates):\n",
        "    # Filter the DataFrame for the current learning rate\n",
        "    lr_df = combined_df[(combined_df['Learning Rate'] == lr) & (combined_df['batch size'] == 20)]\n",
        "\n",
        "    # Group the filtered DataFrame by 'Loss Function' and calculate the sum of 'Final Loss'\n",
        "    grouped_df = lr_df.groupby('Loss Function')['Final Loss'].sum().reset_index()\n",
        "\n",
        "    # Calculate percentages for the legend\n",
        "    percentages = (grouped_df['Final Loss'] / grouped_df['Final Loss'].sum() * 100).round(1)\n",
        "\n",
        "    # Plot the pie chart on the current subplot\n",
        "    pie, _ = axs[i].pie(grouped_df['Final Loss'], startangle=140)\n",
        "    axs[i].set_title(f'LR={lr}')\n",
        "    axs[i].axis('equal')  # Equal aspect ratio ensures that pie is drawn as a circle.\n",
        "\n",
        "    # Create a legend next to the pie chart\n",
        "    legend_labels = [f'{func}: {perc}%' for func, perc in zip(grouped_df['Loss Function'], percentages)]\n",
        "    axs[i].legend(pie, legend_labels, loc='upper right')\n",
        "\n",
        "# Adjust spacing between subplots\n",
        "plt.tight_layout()\n",
        "\n",
        "# Show the figure with all four pie charts\n",
        "plt.show()"
      ],
      "metadata": {
        "colab": {
          "base_uri": "https://localhost:8080/",
          "height": 807
        },
        "id": "dnRl9VbHAh1s",
        "outputId": "24205f1f-36ad-4a5e-8d24-7bcf7a8f2a15"
      },
      "execution_count": null,
      "outputs": [
        {
          "output_type": "display_data",
          "data": {
            "text/plain": [
              "<Figure size 1000x800 with 4 Axes>"
            ],
            "image/png": "[encoded data removed]"
          },
          "metadata": {}
        }
      ]
    },
    {
      "cell_type": "markdown",
      "source": [
        "As a result of the pivot table and graph, we chose the lr: 3.0e-04"
      ],
      "metadata": {
        "id": "aj_hiZ-cSjK5"
      }
    },
    {
      "cell_type": "markdown",
      "source": [
        "---"
      ],
      "metadata": {
        "id": "rTRhmWcdYDDr"
      }
    },
    {
      "cell_type": "markdown",
      "source": [
        "### ***Create a training loop for batch 20***\n"
      ],
      "metadata": {
        "id": "W50SL3h0JiuL"
      }
    },
    {
      "cell_type": "code",
      "source": [
        "batch_size = 20\n",
        "\n",
        "n_epochs = 50\n",
        "\n",
        "# Our network\n",
        "model = ClassConditionedUnet().to(device)\n",
        "\n",
        "# Our loss finction\n",
        "loss_fn = nn.MSELoss()\n",
        "\n",
        "# The optimizer\n",
        "opt = torch.optim.Adam(model.parameters(), lr= 3e-4)\n",
        "\n",
        "# Keeping a record of the losses for later viewing\n",
        "losses = []\n",
        "\n",
        "# The training loop\n",
        "for epoch in range(n_epochs):\n",
        "    for matrix , pattern in tqdm(train_loader):\n",
        "        # Get some data and prepare the corrupted version\n",
        "        matrix = matrix.to(device) * 2 - 1 # Data on the GPU (mapped to (-1, 1))\n",
        "        pattern = pattern.to(device)\n",
        "        noise = torch.randn_like(pattern)\n",
        "        timesteps = torch.randint(0, 999, (pattern.shape[0],)).long().to(device)\n",
        "        noisy_step = noise_scheduler.add_noise(pattern, noise, timesteps)\n",
        "        # Get the model prediction\n",
        "        pred = model(noisy_step, timesteps, matrix.long()) # Note that we pass in the labels y\n",
        "        #pred = (pred > 0.5).float()\n",
        "\n",
        "        # Calculate the loss\n",
        "        loss = loss_fn(pred, pattern) # How close is the output to the noise\n",
        "\n",
        "        # Backprop and update the params:\n",
        "        opt.zero_grad()\n",
        "        #loss.requires_grad = True\n",
        "        loss.backward()\n",
        "        opt.step()\n",
        "\n",
        "        # Store the loss for later\n",
        "        losses.append(loss.item())\n",
        "\n",
        "    # Print our the average of the last 100 loss values to get an idea of progress:\n",
        "    avg_loss = sum(losses[-100:])/100\n",
        "    print(f'Finished epoch {epoch}. Average of the last 100 loss values: {avg_loss:05f}')\n",
        "    if ((epoch + 1) % 10 == 0):\n",
        "      print_matrix(pred,pattern)\n",
        "\n",
        "# Save the trained model after training is complete\n",
        "torch.save(model.state_dict(), 'trained_model.pth')"
      ],
      "metadata": {
        "colab": {
          "base_uri": "https://localhost:8080/",
          "height": 1000
        },
        "id": "uQnj6PFDlSbA",
        "outputId": "7449020b-c509-48b5-f210-70c99e378163"
      },
      "execution_count": null,
      "outputs": [
        {
          "output_type": "stream",
          "name": "stderr",
          "text": [
            "100%|██████████| 1150/1150 [01:14<00:00, 15.43it/s]\n"
          ]
        },
        {
          "output_type": "stream",
          "name": "stdout",
          "text": [
            "Finished epoch 0. Average of the last 100 loss values: 0.001069\n"
          ]
        },
        {
          "output_type": "stream",
          "name": "stderr",
          "text": [
            "100%|██████████| 1150/1150 [01:06<00:00, 17.17it/s]\n"
          ]
        },
        {
          "output_type": "stream",
          "name": "stdout",
          "text": [
            "Finished epoch 1. Average of the last 100 loss values: 0.000798\n"
          ]
        },
        {
          "output_type": "stream",
          "name": "stderr",
          "text": [
            "100%|██████████| 1150/1150 [01:06<00:00, 17.21it/s]\n"
          ]
        },
        {
          "output_type": "stream",
          "name": "stdout",
          "text": [
            "Finished epoch 2. Average of the last 100 loss values: 0.000616\n"
          ]
        },
        {
          "output_type": "stream",
          "name": "stderr",
          "text": [
            "100%|██████████| 1150/1150 [01:05<00:00, 17.49it/s]\n"
          ]
        },
        {
          "output_type": "stream",
          "name": "stdout",
          "text": [
            "Finished epoch 3. Average of the last 100 loss values: 0.000496\n"
          ]
        },
        {
          "output_type": "stream",
          "name": "stderr",
          "text": [
            "100%|██████████| 1150/1150 [01:04<00:00, 17.71it/s]\n"
          ]
        },
        {
          "output_type": "stream",
          "name": "stdout",
          "text": [
            "Finished epoch 4. Average of the last 100 loss values: 0.000482\n"
          ]
        },
        {
          "output_type": "stream",
          "name": "stderr",
          "text": [
            "100%|██████████| 1150/1150 [01:05<00:00, 17.55it/s]\n"
          ]
        },
        {
          "output_type": "stream",
          "name": "stdout",
          "text": [
            "Finished epoch 5. Average of the last 100 loss values: 0.000477\n"
          ]
        },
        {
          "output_type": "stream",
          "name": "stderr",
          "text": [
            "100%|██████████| 1150/1150 [01:07<00:00, 17.05it/s]\n"
          ]
        },
        {
          "output_type": "stream",
          "name": "stdout",
          "text": [
            "Finished epoch 6. Average of the last 100 loss values: 0.000491\n"
          ]
        },
        {
          "output_type": "stream",
          "name": "stderr",
          "text": [
            "100%|██████████| 1150/1150 [01:06<00:00, 17.31it/s]\n"
          ]
        },
        {
          "output_type": "stream",
          "name": "stdout",
          "text": [
            "Finished epoch 7. Average of the last 100 loss values: 0.000451\n"
          ]
        },
        {
          "output_type": "stream",
          "name": "stderr",
          "text": [
            "100%|██████████| 1150/1150 [01:06<00:00, 17.29it/s]\n"
          ]
        },
        {
          "output_type": "stream",
          "name": "stdout",
          "text": [
            "Finished epoch 8. Average of the last 100 loss values: 0.000453\n"
          ]
        },
        {
          "output_type": "stream",
          "name": "stderr",
          "text": [
            "100%|██████████| 1150/1150 [01:06<00:00, 17.30it/s]\n"
          ]
        },
        {
          "output_type": "stream",
          "name": "stdout",
          "text": [
            "Finished epoch 9. Average of the last 100 loss values: 0.000419\n"
          ]
        },
        {
          "output_type": "display_data",
          "data": {
            "text/plain": [
              "<Figure size 800x400 with 2 Axes>"
            ],
            "image/png": "[encoded data removed]"
          },
          "metadata": {}
        },
        {
          "output_type": "stream",
          "name": "stderr",
          "text": [
            "100%|██████████| 1150/1150 [01:05<00:00, 17.51it/s]\n"
          ]
        },
        {
          "output_type": "stream",
          "name": "stdout",
          "text": [
            "Finished epoch 10. Average of the last 100 loss values: 0.000401\n"
          ]
        },
        {
          "output_type": "stream",
          "name": "stderr",
          "text": [
            "100%|██████████| 1150/1150 [01:06<00:00, 17.36it/s]\n"
          ]
        },
        {
          "output_type": "stream",
          "name": "stdout",
          "text": [
            "Finished epoch 11. Average of the last 100 loss values: 0.000385\n"
          ]
        },
        {
          "output_type": "stream",
          "name": "stderr",
          "text": [
            "100%|██████████| 1150/1150 [01:06<00:00, 17.27it/s]\n"
          ]
        },
        {
          "output_type": "stream",
          "name": "stdout",
          "text": [
            "Finished epoch 12. Average of the last 100 loss values: 0.000463\n"
          ]
        },
        {
          "output_type": "stream",
          "name": "stderr",
          "text": [
            "100%|██████████| 1150/1150 [01:06<00:00, 17.33it/s]\n"
          ]
        },
        {
          "output_type": "stream",
          "name": "stdout",
          "text": [
            "Finished epoch 13. Average of the last 100 loss values: 0.000400\n"
          ]
        },
        {
          "output_type": "stream",
          "name": "stderr",
          "text": [
            "100%|██████████| 1150/1150 [01:06<00:00, 17.35it/s]\n"
          ]
        },
        {
          "output_type": "stream",
          "name": "stdout",
          "text": [
            "Finished epoch 14. Average of the last 100 loss values: 0.000433\n"
          ]
        },
        {
          "output_type": "stream",
          "name": "stderr",
          "text": [
            "100%|██████████| 1150/1150 [01:06<00:00, 17.35it/s]\n"
          ]
        },
        {
          "output_type": "stream",
          "name": "stdout",
          "text": [
            "Finished epoch 15. Average of the last 100 loss values: 0.000366\n"
          ]
        },
        {
          "output_type": "stream",
          "name": "stderr",
          "text": [
            "100%|██████████| 1150/1150 [01:05<00:00, 17.45it/s]\n"
          ]
        },
        {
          "output_type": "stream",
          "name": "stdout",
          "text": [
            "Finished epoch 16. Average of the last 100 loss values: 0.000397\n"
          ]
        },
        {
          "output_type": "stream",
          "name": "stderr",
          "text": [
            "100%|██████████| 1150/1150 [01:05<00:00, 17.52it/s]\n"
          ]
        },
        {
          "output_type": "stream",
          "name": "stdout",
          "text": [
            "Finished epoch 17. Average of the last 100 loss values: 0.000394\n"
          ]
        },
        {
          "output_type": "stream",
          "name": "stderr",
          "text": [
            "100%|██████████| 1150/1150 [01:05<00:00, 17.45it/s]\n"
          ]
        },
        {
          "output_type": "stream",
          "name": "stdout",
          "text": [
            "Finished epoch 18. Average of the last 100 loss values: 0.000372\n"
          ]
        },
        {
          "output_type": "stream",
          "name": "stderr",
          "text": [
            "100%|██████████| 1150/1150 [01:05<00:00, 17.69it/s]\n"
          ]
        },
        {
          "output_type": "stream",
          "name": "stdout",
          "text": [
            "Finished epoch 19. Average of the last 100 loss values: 0.000396\n"
          ]
        },
        {
          "output_type": "display_data",
          "data": {
            "text/plain": [
              "<Figure size 800x400 with 2 Axes>"
            ],
            "image/png": "[encoded data removed]"
          },
          "metadata": {}
        },
        {
          "output_type": "stream",
          "name": "stderr",
          "text": [
            "100%|██████████| 1150/1150 [01:04<00:00, 17.73it/s]\n"
          ]
        },
        {
          "output_type": "stream",
          "name": "stdout",
          "text": [
            "Finished epoch 20. Average of the last 100 loss values: 0.000367\n"
          ]
        },
        {
          "output_type": "stream",
          "name": "stderr",
          "text": [
            "100%|██████████| 1150/1150 [01:05<00:00, 17.58it/s]\n"
          ]
        },
        {
          "output_type": "stream",
          "name": "stdout",
          "text": [
            "Finished epoch 21. Average of the last 100 loss values: 0.000427\n"
          ]
        },
        {
          "output_type": "stream",
          "name": "stderr",
          "text": [
            "100%|██████████| 1150/1150 [01:05<00:00, 17.53it/s]\n"
          ]
        },
        {
          "output_type": "stream",
          "name": "stdout",
          "text": [
            "Finished epoch 22. Average of the last 100 loss values: 0.000382\n"
          ]
        },
        {
          "output_type": "stream",
          "name": "stderr",
          "text": [
            "100%|██████████| 1150/1150 [01:04<00:00, 17.79it/s]\n"
          ]
        },
        {
          "output_type": "stream",
          "name": "stdout",
          "text": [
            "Finished epoch 23. Average of the last 100 loss values: 0.000398\n"
          ]
        },
        {
          "output_type": "stream",
          "name": "stderr",
          "text": [
            "100%|██████████| 1150/1150 [01:04<00:00, 17.76it/s]\n"
          ]
        },
        {
          "output_type": "stream",
          "name": "stdout",
          "text": [
            "Finished epoch 24. Average of the last 100 loss values: 0.000418\n"
          ]
        },
        {
          "output_type": "stream",
          "name": "stderr",
          "text": [
            "100%|██████████| 1150/1150 [01:05<00:00, 17.64it/s]\n"
          ]
        },
        {
          "output_type": "stream",
          "name": "stdout",
          "text": [
            "Finished epoch 25. Average of the last 100 loss values: 0.000437\n"
          ]
        },
        {
          "output_type": "stream",
          "name": "stderr",
          "text": [
            "100%|██████████| 1150/1150 [01:05<00:00, 17.45it/s]\n"
          ]
        },
        {
          "output_type": "stream",
          "name": "stdout",
          "text": [
            "Finished epoch 26. Average of the last 100 loss values: 0.000370\n"
          ]
        },
        {
          "output_type": "stream",
          "name": "stderr",
          "text": [
            "100%|██████████| 1150/1150 [01:05<00:00, 17.67it/s]\n"
          ]
        },
        {
          "output_type": "stream",
          "name": "stdout",
          "text": [
            "Finished epoch 27. Average of the last 100 loss values: 0.000415\n"
          ]
        },
        {
          "output_type": "stream",
          "name": "stderr",
          "text": [
            "100%|██████████| 1150/1150 [01:05<00:00, 17.45it/s]\n"
          ]
        },
        {
          "output_type": "stream",
          "name": "stdout",
          "text": [
            "Finished epoch 28. Average of the last 100 loss values: 0.000404\n"
          ]
        },
        {
          "output_type": "stream",
          "name": "stderr",
          "text": [
            "100%|██████████| 1150/1150 [01:06<00:00, 17.36it/s]\n"
          ]
        },
        {
          "output_type": "stream",
          "name": "stdout",
          "text": [
            "Finished epoch 29. Average of the last 100 loss values: 0.000338\n"
          ]
        },
        {
          "output_type": "display_data",
          "data": {
            "text/plain": [
              "<Figure size 800x400 with 2 Axes>"
            ],
            "image/png": "[encoded data removed]"
          },
          "metadata": {}
        },
        {
          "output_type": "stream",
          "name": "stderr",
          "text": [
            "100%|██████████| 1150/1150 [01:06<00:00, 17.34it/s]\n"
          ]
        },
        {
          "output_type": "stream",
          "name": "stdout",
          "text": [
            "Finished epoch 30. Average of the last 100 loss values: 0.000391\n"
          ]
        },
        {
          "output_type": "stream",
          "name": "stderr",
          "text": [
            "100%|██████████| 1150/1150 [01:06<00:00, 17.30it/s]\n"
          ]
        },
        {
          "output_type": "stream",
          "name": "stdout",
          "text": [
            "Finished epoch 31. Average of the last 100 loss values: 0.000314\n"
          ]
        },
        {
          "output_type": "stream",
          "name": "stderr",
          "text": [
            "100%|██████████| 1150/1150 [01:05<00:00, 17.58it/s]\n"
          ]
        },
        {
          "output_type": "stream",
          "name": "stdout",
          "text": [
            "Finished epoch 32. Average of the last 100 loss values: 0.000404\n"
          ]
        },
        {
          "output_type": "stream",
          "name": "stderr",
          "text": [
            "100%|██████████| 1150/1150 [01:04<00:00, 17.72it/s]\n"
          ]
        },
        {
          "output_type": "stream",
          "name": "stdout",
          "text": [
            "Finished epoch 33. Average of the last 100 loss values: 0.000329\n"
          ]
        },
        {
          "output_type": "stream",
          "name": "stderr",
          "text": [
            "100%|██████████| 1150/1150 [01:05<00:00, 17.61it/s]\n"
          ]
        },
        {
          "output_type": "stream",
          "name": "stdout",
          "text": [
            "Finished epoch 34. Average of the last 100 loss values: 0.000398\n"
          ]
        },
        {
          "output_type": "stream",
          "name": "stderr",
          "text": [
            "100%|██████████| 1150/1150 [01:05<00:00, 17.59it/s]\n"
          ]
        },
        {
          "output_type": "stream",
          "name": "stdout",
          "text": [
            "Finished epoch 35. Average of the last 100 loss values: 0.000407\n"
          ]
        },
        {
          "output_type": "stream",
          "name": "stderr",
          "text": [
            "100%|██████████| 1150/1150 [01:05<00:00, 17.54it/s]\n"
          ]
        },
        {
          "output_type": "stream",
          "name": "stdout",
          "text": [
            "Finished epoch 36. Average of the last 100 loss values: 0.000371\n"
          ]
        },
        {
          "output_type": "stream",
          "name": "stderr",
          "text": [
            "100%|██████████| 1150/1150 [01:06<00:00, 17.26it/s]\n"
          ]
        },
        {
          "output_type": "stream",
          "name": "stdout",
          "text": [
            "Finished epoch 37. Average of the last 100 loss values: 0.000442\n"
          ]
        },
        {
          "output_type": "stream",
          "name": "stderr",
          "text": [
            "100%|██████████| 1150/1150 [01:05<00:00, 17.46it/s]\n"
          ]
        },
        {
          "output_type": "stream",
          "name": "stdout",
          "text": [
            "Finished epoch 38. Average of the last 100 loss values: 0.000371\n"
          ]
        },
        {
          "output_type": "stream",
          "name": "stderr",
          "text": [
            "100%|██████████| 1150/1150 [01:05<00:00, 17.65it/s]\n"
          ]
        },
        {
          "output_type": "stream",
          "name": "stdout",
          "text": [
            "Finished epoch 39. Average of the last 100 loss values: 0.000353\n"
          ]
        },
        {
          "output_type": "display_data",
          "data": {
            "text/plain": [
              "<Figure size 800x400 with 2 Axes>"
            ],
            "image/png": "[encoded data removed]"
          },
          "metadata": {}
        },
        {
          "output_type": "stream",
          "name": "stderr",
          "text": [
            "100%|██████████| 1150/1150 [01:05<00:00, 17.52it/s]\n"
          ]
        },
        {
          "output_type": "stream",
          "name": "stdout",
          "text": [
            "Finished epoch 40. Average of the last 100 loss values: 0.000371\n"
          ]
        },
        {
          "output_type": "stream",
          "name": "stderr",
          "text": [
            "100%|██████████| 1150/1150 [01:06<00:00, 17.30it/s]\n"
          ]
        },
        {
          "output_type": "stream",
          "name": "stdout",
          "text": [
            "Finished epoch 41. Average of the last 100 loss values: 0.000376\n"
          ]
        },
        {
          "output_type": "stream",
          "name": "stderr",
          "text": [
            "100%|██████████| 1150/1150 [01:05<00:00, 17.62it/s]\n"
          ]
        },
        {
          "output_type": "stream",
          "name": "stdout",
          "text": [
            "Finished epoch 42. Average of the last 100 loss values: 0.000374\n"
          ]
        },
        {
          "output_type": "stream",
          "name": "stderr",
          "text": [
            "100%|██████████| 1150/1150 [01:06<00:00, 17.36it/s]\n"
          ]
        },
        {
          "output_type": "stream",
          "name": "stdout",
          "text": [
            "Finished epoch 43. Average of the last 100 loss values: 0.000328\n"
          ]
        },
        {
          "output_type": "stream",
          "name": "stderr",
          "text": [
            "100%|██████████| 1150/1150 [01:07<00:00, 17.07it/s]\n"
          ]
        },
        {
          "output_type": "stream",
          "name": "stdout",
          "text": [
            "Finished epoch 44. Average of the last 100 loss values: 0.000453\n"
          ]
        },
        {
          "output_type": "stream",
          "name": "stderr",
          "text": [
            "100%|██████████| 1150/1150 [01:06<00:00, 17.39it/s]\n"
          ]
        },
        {
          "output_type": "stream",
          "name": "stdout",
          "text": [
            "Finished epoch 45. Average of the last 100 loss values: 0.000331\n"
          ]
        },
        {
          "output_type": "stream",
          "name": "stderr",
          "text": [
            "100%|██████████| 1150/1150 [01:05<00:00, 17.55it/s]\n"
          ]
        },
        {
          "output_type": "stream",
          "name": "stdout",
          "text": [
            "Finished epoch 46. Average of the last 100 loss values: 0.000373\n"
          ]
        },
        {
          "output_type": "stream",
          "name": "stderr",
          "text": [
            "100%|██████████| 1150/1150 [01:05<00:00, 17.57it/s]\n"
          ]
        },
        {
          "output_type": "stream",
          "name": "stdout",
          "text": [
            "Finished epoch 47. Average of the last 100 loss values: 0.000370\n"
          ]
        },
        {
          "output_type": "stream",
          "name": "stderr",
          "text": [
            "100%|██████████| 1150/1150 [01:05<00:00, 17.46it/s]\n"
          ]
        },
        {
          "output_type": "stream",
          "name": "stdout",
          "text": [
            "Finished epoch 48. Average of the last 100 loss values: 0.000420\n"
          ]
        },
        {
          "output_type": "stream",
          "name": "stderr",
          "text": [
            "100%|██████████| 1150/1150 [01:06<00:00, 17.27it/s]\n"
          ]
        },
        {
          "output_type": "stream",
          "name": "stdout",
          "text": [
            "Finished epoch 49. Average of the last 100 loss values: 0.000399\n"
          ]
        },
        {
          "output_type": "display_data",
          "data": {
            "text/plain": [
              "<Figure size 800x400 with 2 Axes>"
            ],
            "image/png": "[encoded data removed]"
          },
          "metadata": {}
        }
      ]
    },
    {
      "cell_type": "code",
      "source": [
        "# View the loss curve\n",
        "plt.plot(losses)\n",
        "plt.xlabel('Iteration')\n",
        "plt.ylabel('Loss')\n",
        "plt.title('Train Loss Curve')\n",
        "plt.grid(False)\n",
        "plt.show()"
      ],
      "metadata": {
        "colab": {
          "base_uri": "https://localhost:8080/",
          "height": 472
        },
        "id": "IebuLqVLrw6C",
        "outputId": "55ffb12c-076f-446c-ecf7-cf99540c7ea7"
      },
      "execution_count": null,
      "outputs": [
        {
          "output_type": "display_data",
          "data": {
            "text/plain": [
              "<Figure size 640x480 with 1 Axes>"
            ],
            "image/png": "[encoded data removed]"
          },
          "metadata": {}
        }
      ]
    },
    {
      "cell_type": "markdown",
      "source": [
        "### ***Create a test loop***"
      ],
      "metadata": {
        "id": "8Ba0kB7PkeCQ"
      }
    },
    {
      "cell_type": "code",
      "source": [
        "# Load the trained model\n",
        "model = ClassConditionedUnet().to(device)\n",
        "model.load_state_dict(torch.load('trained_model.pth'))\n",
        "model.eval()  # Set the model to evaluation mode\n",
        "\n",
        "# Initialize variables to accumulate counts\n",
        "correct_predictions = 0\n",
        "incorrect_predictions = 0\n",
        "precisions = []\n",
        "recalls = []\n",
        "\n",
        "# Lists to store images that were correctly and incorrectly predicted\n",
        "correctly_predicted_images = []\n",
        "incorrectly_predicted_images = []\n",
        "\n",
        "# Evaluation loop\n",
        "with torch.no_grad():\n",
        "    for matrix, pattern in test_loader:\n",
        "        # Move data to the GPU if available\n",
        "        matrix = matrix.to(device) * 2 - 1\n",
        "        pattern = pattern.to(device)\n",
        "        noise = torch.randn_like(pattern)\n",
        "        timesteps = torch.randint(0, 999, (pattern.shape[0],)).long().to(device)\n",
        "        noisy_step = noise_scheduler.add_noise(pattern, noise, timesteps)\n",
        "\n",
        "        # Get model predictions\n",
        "        pred = model(noisy_step, timesteps, matrix.long())\n",
        "        binary_pred = binary_threshold(pred).cpu().numpy()\n",
        "\n",
        "        # Check if each image in the batch is predicted correctly\n",
        "        for i in range(binary_pred.shape[0]):\n",
        "            if np.all(binary_pred[i] == pattern[i].cpu().numpy()):\n",
        "                correct_predictions += 1\n",
        "                correctly_predicted_images.append(pattern[i])\n",
        "            else:\n",
        "                incorrect_predictions += 1\n",
        "                incorrectly_predicted_images.append(pattern[i])\n",
        "\n",
        "            # Calculate precision and recall for the current image\n",
        "            precision = precision_score(pattern[i].cpu().numpy().flatten(), binary_pred[i].flatten().astype(int))\n",
        "            recall = recall_score(pattern[i].cpu().numpy().flatten(), binary_pred[i].flatten().astype(int))\n",
        "            precisions.append(precision)\n",
        "            recalls.append(recall)\n",
        "\n",
        "# Calculate the overall image-level accuracy\n",
        "total_images = correct_predictions + incorrect_predictions\n",
        "image_level_accuracy = (correct_predictions / total_images) * 100\n",
        "average_precision = np.mean(precisions)\n",
        "average_recall = np.mean(recalls)\n",
        "\n",
        "# Create a summary table\n",
        "summary_data = {\n",
        "    'Type': ['Correct Predictions', 'Incorrect Predictions', 'Overall Image-Level Accuracy',\n",
        "             'Average Precision for Individual Images', 'Average Recall for Individual Images'],\n",
        "    'Count': [correct_predictions, incorrect_predictions,f'{image_level_accuracy:.2f}%',f'{average_precision:.4f}',f'{average_recall:.4f}']\n",
        "}\n",
        "\n",
        "# Display the summary table\n",
        "summary_df = pd.DataFrame(summary_data)\n",
        "print(summary_df)\n",
        "print(f'Overall Image-Level Accuracy: {image_level_accuracy:.2f}%')\n",
        "\n",
        "# Plot a sample of the input, target, and predicted images\n",
        "sample_idx = 0  # You can change this index to visualize different samples\n",
        "\n",
        "input_image = noisy_step[sample_idx].cpu().numpy()\n",
        "target_image = pattern[sample_idx].cpu().numpy()\n",
        "pred_image = pred[sample_idx].cpu().numpy()\n",
        "\n",
        "fig, axs = plt.subplots(1, 3, figsize=(12, 4))\n",
        "\n",
        "# Display the input image in the first subplot\n",
        "axs[0].imshow(input_image[0], cmap='gray')\n",
        "axs[0].set_title('Input Image')\n",
        "axs[0].axis('off')  # Remove ticks and labels\n",
        "\n",
        "# Display the target image in the second subplot\n",
        "axs[1].imshow(target_image[0], cmap='gray')\n",
        "axs[1].set_title('Target Image')\n",
        "axs[1].axis('off')  # Remove ticks and labels\n",
        "\n",
        "# Display the predicted image in the third subplot\n",
        "axs[2].imshow(pred_image[0], cmap='gray')\n",
        "axs[2].set_title('Predicted Image')\n",
        "axs[2].axis('off')  # Remove ticks and labels\n",
        "\n",
        "plt.show()\n",
        "\n"
      ],
      "metadata": {
        "colab": {
          "base_uri": "https://localhost:8080/",
          "height": 401
        },
        "id": "zVfGUqVE1T5l",
        "outputId": "1cb9ebe7-2fbd-493f-ef04-828cb3458e3e"
      },
      "execution_count": null,
      "outputs": [
        {
          "output_type": "stream",
          "name": "stdout",
          "text": [
            "                    Type  Count\n",
            "0    Correct Predictions   1972\n",
            "1  Incorrect Predictions     28\n",
            "Overall Image-Level Accuracy: 98.60%\n"
          ]
        },
        {
          "output_type": "display_data",
          "data": {
            "text/plain": [
              "<Figure size 1200x400 with 3 Axes>"
            ],
            "image/png": "[encoded data removed]"
          },
          "metadata": {}
        }
      ]
    },
    {
      "cell_type": "code",
      "source": [
        "summary_df"
      ],
      "metadata": {
        "colab": {
          "base_uri": "https://localhost:8080/",
          "height": 206
        },
        "id": "CrXWXacOPF2t",
        "outputId": "75615927-8ea9-4c95-a3ac-1f8401f7e8a6"
      },
      "execution_count": 6,
      "outputs": [
        {
          "output_type": "execute_result",
          "data": {
            "text/plain": [
              "                                      Type   Count\n",
              "0                      Correct Predictions    1972\n",
              "1                    Incorrect Predictions      28\n",
              "2             Overall Image-Level Accuracy  98.60%\n",
              "3  Average Precision for Individual Images   0.995\n",
              "4     Average Recall for Individual Images   0.995"
            ],
            "text/html": [
              "\n",
              "  <div id=\"df-209d3d6c-5600-4d7b-92f9-840bc4238ea9\" class=\"colab-df-container\">\n",
              "    <div>\n",
              "<style scoped>\n",
              "    .dataframe tbody tr th:only-of-type {\n",
              "        vertical-align: middle;\n",
              "    }\n",
              "\n",
              "    .dataframe tbody tr th {\n",
              "        vertical-align: top;\n",
              "    }\n",
              "\n",
              "    .dataframe thead th {\n",
              "        text-align: right;\n",
              "    }\n",
              "</style>\n",
              "<table border=\"1\" class=\"dataframe\">\n",
              "  <thead>\n",
              "    <tr style=\"text-align: right;\">\n",
              "      <th></th>\n",
              "      <th>Type</th>\n",
              "      <th>Count</th>\n",
              "    </tr>\n",
              "  </thead>\n",
              "  <tbody>\n",
              "    <tr>\n",
              "      <th>0</th>\n",
              "      <td>Correct Predictions</td>\n",
              "      <td>1972</td>\n",
              "    </tr>\n",
              "    <tr>\n",
              "      <th>1</th>\n",
              "      <td>Incorrect Predictions</td>\n",
              "      <td>28</td>\n",
              "    </tr>\n",
              "    <tr>\n",
              "      <th>2</th>\n",
              "      <td>Overall Image-Level Accuracy</td>\n",
              "      <td>98.60%</td>\n",
              "    </tr>\n",
              "    <tr>\n",
              "      <th>3</th>\n",
              "      <td>Average Precision for Individual Images</td>\n",
              "      <td>0.995</td>\n",
              "    </tr>\n",
              "    <tr>\n",
              "      <th>4</th>\n",
              "      <td>Average Recall for Individual Images</td>\n",
              "      <td>0.995</td>\n",
              "    </tr>\n",
              "  </tbody>\n",
              "</table>\n",
              "</div>\n",
              "    <div class=\"colab-df-buttons\">\n",
              "\n",
              "  <div class=\"colab-df-container\">\n",
              "    <button class=\"colab-df-convert\" onclick=\"convertToInteractive('df-209d3d6c-5600-4d7b-92f9-840bc4238ea9')\"\n",
              "            title=\"Convert this dataframe to an interactive table.\"\n",
              "            style=\"display:none;\">\n",
              "\n",
              "  <svg xmlns=\"http://www.w3.org/2000/svg\" height=\"24px\" viewBox=\"0 -960 960 960\">\n",
              "    <path d=\"M120-120v-720h720v720H120Zm60-500h600v-160H180v160Zm220 220h160v-160H400v160Zm0 220h160v-160H400v160ZM180-400h160v-160H180v160Zm440 0h160v-160H620v160ZM180-180h160v-160H180v160Zm440 0h160v-160H620v160Z\"/>\n",
              "  </svg>\n",
              "    </button>\n",
              "\n",
              "  <style>\n",
              "    .colab-df-container {\n",
              "      display:flex;\n",
              "      gap: 12px;\n",
              "    }\n",
              "\n",
              "    .colab-df-convert {\n",
              "      background-color: #E8F0FE;\n",
              "      border: none;\n",
              "      border-radius: 50%;\n",
              "      cursor: pointer;\n",
              "      display: none;\n",
              "      fill: #1967D2;\n",
              "      height: 32px;\n",
              "      padding: 0 0 0 0;\n",
              "      width: 32px;\n",
              "    }\n",
              "\n",
              "    .colab-df-convert:hover {\n",
              "      background-color: #E2EBFA;\n",
              "      box-shadow: 0px 1px 2px rgba(60, 64, 67, 0.3), 0px 1px 3px 1px rgba(60, 64, 67, 0.15);\n",
              "      fill: #174EA6;\n",
              "    }\n",
              "\n",
              "    .colab-df-buttons div {\n",
              "      margin-bottom: 4px;\n",
              "    }\n",
              "\n",
              "    [theme=dark] .colab-df-convert {\n",
              "      background-color: #3B4455;\n",
              "      fill: #D2E3FC;\n",
              "    }\n",
              "\n",
              "    [theme=dark] .colab-df-convert:hover {\n",
              "      background-color: #434B5C;\n",
              "      box-shadow: 0px 1px 3px 1px rgba(0, 0, 0, 0.15);\n",
              "      filter: drop-shadow(0px 1px 2px rgba(0, 0, 0, 0.3));\n",
              "      fill: #FFFFFF;\n",
              "    }\n",
              "  </style>\n",
              "\n",
              "    <script>\n",
              "      const buttonEl =\n",
              "        document.querySelector('#df-209d3d6c-5600-4d7b-92f9-840bc4238ea9 button.colab-df-convert');\n",
              "      buttonEl.style.display =\n",
              "        google.colab.kernel.accessAllowed ? 'block' : 'none';\n",
              "\n",
              "      async function convertToInteractive(key) {\n",
              "        const element = document.querySelector('#df-209d3d6c-5600-4d7b-92f9-840bc4238ea9');\n",
              "        const dataTable =\n",
              "          await google.colab.kernel.invokeFunction('convertToInteractive',\n",
              "                                                    [key], {});\n",
              "        if (!dataTable) return;\n",
              "\n",
              "        const docLinkHtml = 'Like what you see? Visit the ' +\n",
              "          '<a target=\"_blank\" href=https://colab.research.google.com/notebooks/data_table.ipynb>data table notebook</a>'\n",
              "          + ' to learn more about interactive tables.';\n",
              "        element.innerHTML = '';\n",
              "        dataTable['output_type'] = 'display_data';\n",
              "        await google.colab.output.renderOutput(dataTable, element);\n",
              "        const docLink = document.createElement('div');\n",
              "        docLink.innerHTML = docLinkHtml;\n",
              "        element.appendChild(docLink);\n",
              "      }\n",
              "    </script>\n",
              "  </div>\n",
              "\n",
              "\n",
              "<div id=\"df-eb6c2ca1-7884-4406-ac99-26f76ce6cad4\">\n",
              "  <button class=\"colab-df-quickchart\" onclick=\"quickchart('df-eb6c2ca1-7884-4406-ac99-26f76ce6cad4')\"\n",
              "            title=\"Suggest charts.\"\n",
              "            style=\"display:none;\">\n",
              "\n",
              "<svg xmlns=\"http://www.w3.org/2000/svg\" height=\"24px\"viewBox=\"0 0 24 24\"\n",
              "     width=\"24px\">\n",
              "    <g>\n",
              "        <path d=\"M19 3H5c-1.1 0-2 .9-2 2v14c0 1.1.9 2 2 2h14c1.1 0 2-.9 2-2V5c0-1.1-.9-2-2-2zM9 17H7v-7h2v7zm4 0h-2V7h2v10zm4 0h-2v-4h2v4z\"/>\n",
              "    </g>\n",
              "</svg>\n",
              "  </button>\n",
              "\n",
              "<style>\n",
              "  .colab-df-quickchart {\n",
              "      --bg-color: #E8F0FE;\n",
              "      --fill-color: #1967D2;\n",
              "      --hover-bg-color: #E2EBFA;\n",
              "      --hover-fill-color: #174EA6;\n",
              "      --disabled-fill-color: #AAA;\n",
              "      --disabled-bg-color: #DDD;\n",
              "  }\n",
              "\n",
              "  [theme=dark] .colab-df-quickchart {\n",
              "      --bg-color: #3B4455;\n",
              "      --fill-color: #D2E3FC;\n",
              "      --hover-bg-color: #434B5C;\n",
              "      --hover-fill-color: #FFFFFF;\n",
              "      --disabled-bg-color: #3B4455;\n",
              "      --disabled-fill-color: #666;\n",
              "  }\n",
              "\n",
              "  .colab-df-quickchart {\n",
              "    background-color: var(--bg-color);\n",
              "    border: none;\n",
              "    border-radius: 50%;\n",
              "    cursor: pointer;\n",
              "    display: none;\n",
              "    fill: var(--fill-color);\n",
              "    height: 32px;\n",
              "    padding: 0;\n",
              "    width: 32px;\n",
              "  }\n",
              "\n",
              "  .colab-df-quickchart:hover {\n",
              "    background-color: var(--hover-bg-color);\n",
              "    box-shadow: 0 1px 2px rgba(60, 64, 67, 0.3), 0 1px 3px 1px rgba(60, 64, 67, 0.15);\n",
              "    fill: var(--button-hover-fill-color);\n",
              "  }\n",
              "\n",
              "  .colab-df-quickchart-complete:disabled,\n",
              "  .colab-df-quickchart-complete:disabled:hover {\n",
              "    background-color: var(--disabled-bg-color);\n",
              "    fill: var(--disabled-fill-color);\n",
              "    box-shadow: none;\n",
              "  }\n",
              "\n",
              "  .colab-df-spinner {\n",
              "    border: 2px solid var(--fill-color);\n",
              "    border-color: transparent;\n",
              "    border-bottom-color: var(--fill-color);\n",
              "    animation:\n",
              "      spin 1s steps(1) infinite;\n",
              "  }\n",
              "\n",
              "  @keyframes spin {\n",
              "    0% {\n",
              "      border-color: transparent;\n",
              "      border-bottom-color: var(--fill-color);\n",
              "      border-left-color: var(--fill-color);\n",
              "    }\n",
              "    20% {\n",
              "      border-color: transparent;\n",
              "      border-left-color: var(--fill-color);\n",
              "      border-top-color: var(--fill-color);\n",
              "    }\n",
              "    30% {\n",
              "      border-color: transparent;\n",
              "      border-left-color: var(--fill-color);\n",
              "      border-top-color: var(--fill-color);\n",
              "      border-right-color: var(--fill-color);\n",
              "    }\n",
              "    40% {\n",
              "      border-color: transparent;\n",
              "      border-right-color: var(--fill-color);\n",
              "      border-top-color: var(--fill-color);\n",
              "    }\n",
              "    60% {\n",
              "      border-color: transparent;\n",
              "      border-right-color: var(--fill-color);\n",
              "    }\n",
              "    80% {\n",
              "      border-color: transparent;\n",
              "      border-right-color: var(--fill-color);\n",
              "      border-bottom-color: var(--fill-color);\n",
              "    }\n",
              "    90% {\n",
              "      border-color: transparent;\n",
              "      border-bottom-color: var(--fill-color);\n",
              "    }\n",
              "  }\n",
              "</style>\n",
              "\n",
              "  <script>\n",
              "    async function quickchart(key) {\n",
              "      const quickchartButtonEl =\n",
              "        document.querySelector('#' + key + ' button');\n",
              "      quickchartButtonEl.disabled = true;  // To prevent multiple clicks.\n",
              "      quickchartButtonEl.classList.add('colab-df-spinner');\n",
              "      try {\n",
              "        const charts = await google.colab.kernel.invokeFunction(\n",
              "            'suggestCharts', [key], {});\n",
              "      } catch (error) {\n",
              "        console.error('Error during call to suggestCharts:', error);\n",
              "      }\n",
              "      quickchartButtonEl.classList.remove('colab-df-spinner');\n",
              "      quickchartButtonEl.classList.add('colab-df-quickchart-complete');\n",
              "    }\n",
              "    (() => {\n",
              "      let quickchartButtonEl =\n",
              "        document.querySelector('#df-eb6c2ca1-7884-4406-ac99-26f76ce6cad4 button');\n",
              "      quickchartButtonEl.style.display =\n",
              "        google.colab.kernel.accessAllowed ? 'block' : 'none';\n",
              "    })();\n",
              "  </script>\n",
              "</div>\n",
              "    </div>\n",
              "  </div>\n"
            ]
          },
          "metadata": {},
          "execution_count": 6
        }
      ]
    }
  ]
}